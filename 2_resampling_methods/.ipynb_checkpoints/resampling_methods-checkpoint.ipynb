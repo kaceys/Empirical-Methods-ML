{
 "cells": [
  {
   "cell_type": "markdown",
   "metadata": {
    "slideshow": {
     "slide_type": "slide"
    }
   },
   "source": [
    "# Resampling Methods\n",
    "\n",
    "There are two most commonly used _resampling methods,_ _cross-validation,_ and the _bootstrap_.\n"
   ]
  },
  {
   "cell_type": "code",
   "execution_count": 1,
   "metadata": {
    "slideshow": {
     "slide_type": "fragment"
    }
   },
   "outputs": [
    {
     "name": "stderr",
     "output_type": "stream",
     "text": [
      "Loading required package: wooldridge\n"
     ]
    },
    {
     "data": {
      "text/html": [
       "<table>\n",
       "<caption>A data.frame: 6 × 19</caption>\n",
       "<thead>\n",
       "\t<tr><th scope=col>year</th><th scope=col>age</th><th scope=col>agesq</th><th scope=col>nbh</th><th scope=col>cbd</th><th scope=col>inst</th><th scope=col>linst</th><th scope=col>price</th><th scope=col>rooms</th><th scope=col>area</th><th scope=col>land</th><th scope=col>baths</th><th scope=col>dist</th><th scope=col>ldist</th><th scope=col>lprice</th><th scope=col>y81</th><th scope=col>larea</th><th scope=col>lland</th><th scope=col>linstsq</th></tr>\n",
       "\t<tr><th scope=col>&lt;int&gt;</th><th scope=col>&lt;int&gt;</th><th scope=col>&lt;dbl&gt;</th><th scope=col>&lt;int&gt;</th><th scope=col>&lt;dbl&gt;</th><th scope=col>&lt;dbl&gt;</th><th scope=col>&lt;dbl&gt;</th><th scope=col>&lt;dbl&gt;</th><th scope=col>&lt;int&gt;</th><th scope=col>&lt;int&gt;</th><th scope=col>&lt;dbl&gt;</th><th scope=col>&lt;int&gt;</th><th scope=col>&lt;dbl&gt;</th><th scope=col>&lt;dbl&gt;</th><th scope=col>&lt;dbl&gt;</th><th scope=col>&lt;int&gt;</th><th scope=col>&lt;dbl&gt;</th><th scope=col>&lt;dbl&gt;</th><th scope=col>&lt;dbl&gt;</th></tr>\n",
       "</thead>\n",
       "<tbody>\n",
       "\t<tr><td>1978</td><td>48</td><td>2304</td><td>4</td><td>3000</td><td>1000</td><td>6.9078</td><td>60000</td><td>7</td><td>1660</td><td> 4578</td><td>1</td><td>10700</td><td>9.277999</td><td>11.00210</td><td>0</td><td>7.414573</td><td>8.429017</td><td>47.71770</td></tr>\n",
       "\t<tr><td>1978</td><td>83</td><td>6889</td><td>4</td><td>4000</td><td>1000</td><td>6.9078</td><td>40000</td><td>6</td><td>2612</td><td> 8370</td><td>2</td><td>11000</td><td>9.305651</td><td>10.59663</td><td>0</td><td>7.867871</td><td>9.032409</td><td>47.71770</td></tr>\n",
       "\t<tr><td>1978</td><td>58</td><td>3364</td><td>4</td><td>4000</td><td>1000</td><td>6.9078</td><td>34000</td><td>6</td><td>1144</td><td> 5000</td><td>1</td><td>11500</td><td>9.350102</td><td>10.43412</td><td>0</td><td>7.042286</td><td>8.517193</td><td>47.71770</td></tr>\n",
       "\t<tr><td>1978</td><td>11</td><td> 121</td><td>4</td><td>4000</td><td>1000</td><td>6.9078</td><td>63900</td><td>5</td><td>1136</td><td>10000</td><td>1</td><td>11900</td><td>9.384294</td><td>11.06507</td><td>0</td><td>7.035269</td><td>9.210340</td><td>47.71770</td></tr>\n",
       "\t<tr><td>1978</td><td>48</td><td>2304</td><td>4</td><td>4000</td><td>2000</td><td>7.6009</td><td>44000</td><td>5</td><td>1868</td><td>10000</td><td>1</td><td>12100</td><td>9.400961</td><td>10.69195</td><td>0</td><td>7.532624</td><td>9.210340</td><td>57.77368</td></tr>\n",
       "\t<tr><td>1978</td><td>78</td><td>6084</td><td>4</td><td>3000</td><td>2000</td><td>7.6009</td><td>46000</td><td>6</td><td>1780</td><td> 9500</td><td>3</td><td>10000</td><td>9.210340</td><td>10.73640</td><td>0</td><td>7.484369</td><td>9.159047</td><td>57.77368</td></tr>\n",
       "</tbody>\n",
       "</table>\n"
      ],
      "text/latex": [
       "A data.frame: 6 × 19\n",
       "\\begin{tabular}{r|lllllllllllllllllll}\n",
       " year & age & agesq & nbh & cbd & inst & linst & price & rooms & area & land & baths & dist & ldist & lprice & y81 & larea & lland & linstsq\\\\\n",
       " <int> & <int> & <dbl> & <int> & <dbl> & <dbl> & <dbl> & <dbl> & <int> & <int> & <dbl> & <int> & <dbl> & <dbl> & <dbl> & <int> & <dbl> & <dbl> & <dbl>\\\\\n",
       "\\hline\n",
       "\t 1978 & 48 & 2304 & 4 & 3000 & 1000 & 6.9078 & 60000 & 7 & 1660 &  4578 & 1 & 10700 & 9.277999 & 11.00210 & 0 & 7.414573 & 8.429017 & 47.71770\\\\\n",
       "\t 1978 & 83 & 6889 & 4 & 4000 & 1000 & 6.9078 & 40000 & 6 & 2612 &  8370 & 2 & 11000 & 9.305651 & 10.59663 & 0 & 7.867871 & 9.032409 & 47.71770\\\\\n",
       "\t 1978 & 58 & 3364 & 4 & 4000 & 1000 & 6.9078 & 34000 & 6 & 1144 &  5000 & 1 & 11500 & 9.350102 & 10.43412 & 0 & 7.042286 & 8.517193 & 47.71770\\\\\n",
       "\t 1978 & 11 &  121 & 4 & 4000 & 1000 & 6.9078 & 63900 & 5 & 1136 & 10000 & 1 & 11900 & 9.384294 & 11.06507 & 0 & 7.035269 & 9.210340 & 47.71770\\\\\n",
       "\t 1978 & 48 & 2304 & 4 & 4000 & 2000 & 7.6009 & 44000 & 5 & 1868 & 10000 & 1 & 12100 & 9.400961 & 10.69195 & 0 & 7.532624 & 9.210340 & 57.77368\\\\\n",
       "\t 1978 & 78 & 6084 & 4 & 3000 & 2000 & 7.6009 & 46000 & 6 & 1780 &  9500 & 3 & 10000 & 9.210340 & 10.73640 & 0 & 7.484369 & 9.159047 & 57.77368\\\\\n",
       "\\end{tabular}\n"
      ],
      "text/markdown": [
       "\n",
       "A data.frame: 6 × 19\n",
       "\n",
       "| year &lt;int&gt; | age &lt;int&gt; | agesq &lt;dbl&gt; | nbh &lt;int&gt; | cbd &lt;dbl&gt; | inst &lt;dbl&gt; | linst &lt;dbl&gt; | price &lt;dbl&gt; | rooms &lt;int&gt; | area &lt;int&gt; | land &lt;dbl&gt; | baths &lt;int&gt; | dist &lt;dbl&gt; | ldist &lt;dbl&gt; | lprice &lt;dbl&gt; | y81 &lt;int&gt; | larea &lt;dbl&gt; | lland &lt;dbl&gt; | linstsq &lt;dbl&gt; |\n",
       "|---|---|---|---|---|---|---|---|---|---|---|---|---|---|---|---|---|---|---|\n",
       "| 1978 | 48 | 2304 | 4 | 3000 | 1000 | 6.9078 | 60000 | 7 | 1660 |  4578 | 1 | 10700 | 9.277999 | 11.00210 | 0 | 7.414573 | 8.429017 | 47.71770 |\n",
       "| 1978 | 83 | 6889 | 4 | 4000 | 1000 | 6.9078 | 40000 | 6 | 2612 |  8370 | 2 | 11000 | 9.305651 | 10.59663 | 0 | 7.867871 | 9.032409 | 47.71770 |\n",
       "| 1978 | 58 | 3364 | 4 | 4000 | 1000 | 6.9078 | 34000 | 6 | 1144 |  5000 | 1 | 11500 | 9.350102 | 10.43412 | 0 | 7.042286 | 8.517193 | 47.71770 |\n",
       "| 1978 | 11 |  121 | 4 | 4000 | 1000 | 6.9078 | 63900 | 5 | 1136 | 10000 | 1 | 11900 | 9.384294 | 11.06507 | 0 | 7.035269 | 9.210340 | 47.71770 |\n",
       "| 1978 | 48 | 2304 | 4 | 4000 | 2000 | 7.6009 | 44000 | 5 | 1868 | 10000 | 1 | 12100 | 9.400961 | 10.69195 | 0 | 7.532624 | 9.210340 | 57.77368 |\n",
       "| 1978 | 78 | 6084 | 4 | 3000 | 2000 | 7.6009 | 46000 | 6 | 1780 |  9500 | 3 | 10000 | 9.210340 | 10.73640 | 0 | 7.484369 | 9.159047 | 57.77368 |\n",
       "\n"
      ],
      "text/plain": [
       "  year age agesq nbh cbd  inst linst  price rooms area land  baths dist \n",
       "1 1978 48  2304  4   3000 1000 6.9078 60000 7     1660  4578 1     10700\n",
       "2 1978 83  6889  4   4000 1000 6.9078 40000 6     2612  8370 2     11000\n",
       "3 1978 58  3364  4   4000 1000 6.9078 34000 6     1144  5000 1     11500\n",
       "4 1978 11   121  4   4000 1000 6.9078 63900 5     1136 10000 1     11900\n",
       "5 1978 48  2304  4   4000 2000 7.6009 44000 5     1868 10000 1     12100\n",
       "6 1978 78  6084  4   3000 2000 7.6009 46000 6     1780  9500 3     10000\n",
       "  ldist    lprice   y81 larea    lland    linstsq \n",
       "1 9.277999 11.00210 0   7.414573 8.429017 47.71770\n",
       "2 9.305651 10.59663 0   7.867871 9.032409 47.71770\n",
       "3 9.350102 10.43412 0   7.042286 8.517193 47.71770\n",
       "4 9.384294 11.06507 0   7.035269 9.210340 47.71770\n",
       "5 9.400961 10.69195 0   7.532624 9.210340 57.77368\n",
       "6 9.210340 10.73640 0   7.484369 9.159047 57.77368"
      ]
     },
     "metadata": {},
     "output_type": "display_data"
    },
    {
     "data": {
      "text/html": [
       "<table>\n",
       "<caption>A data.frame: 6 × 11</caption>\n",
       "<thead>\n",
       "\t<tr><th scope=col>lprice</th><th scope=col>lland</th><th scope=col>larea</th><th scope=col>nbh</th><th scope=col>rooms</th><th scope=col>cbd</th><th scope=col>y81</th><th scope=col>ldist</th><th scope=col>baths</th><th scope=col>age</th><th scope=col>agesq</th></tr>\n",
       "\t<tr><th scope=col>&lt;dbl&gt;</th><th scope=col>&lt;dbl&gt;</th><th scope=col>&lt;dbl&gt;</th><th scope=col>&lt;fct&gt;</th><th scope=col>&lt;int&gt;</th><th scope=col>&lt;dbl&gt;</th><th scope=col>&lt;fct&gt;</th><th scope=col>&lt;dbl&gt;</th><th scope=col>&lt;int&gt;</th><th scope=col>&lt;int&gt;</th><th scope=col>&lt;dbl&gt;</th></tr>\n",
       "</thead>\n",
       "<tbody>\n",
       "\t<tr><td>11.00210</td><td>8.429017</td><td>7.414573</td><td>4</td><td>7</td><td>8.006368</td><td>0</td><td>9.277999</td><td>1</td><td>48</td><td>2304</td></tr>\n",
       "\t<tr><td>10.59663</td><td>9.032409</td><td>7.867871</td><td>4</td><td>6</td><td>8.294050</td><td>0</td><td>9.305651</td><td>2</td><td>83</td><td>6889</td></tr>\n",
       "\t<tr><td>10.43412</td><td>8.517193</td><td>7.042286</td><td>4</td><td>6</td><td>8.294050</td><td>0</td><td>9.350102</td><td>1</td><td>58</td><td>3364</td></tr>\n",
       "\t<tr><td>11.06507</td><td>9.210340</td><td>7.035269</td><td>4</td><td>5</td><td>8.294050</td><td>0</td><td>9.384294</td><td>1</td><td>11</td><td> 121</td></tr>\n",
       "\t<tr><td>10.69195</td><td>9.210340</td><td>7.532624</td><td>4</td><td>5</td><td>8.294050</td><td>0</td><td>9.400961</td><td>1</td><td>48</td><td>2304</td></tr>\n",
       "\t<tr><td>10.73640</td><td>9.159047</td><td>7.484369</td><td>4</td><td>6</td><td>8.006368</td><td>0</td><td>9.210340</td><td>3</td><td>78</td><td>6084</td></tr>\n",
       "</tbody>\n",
       "</table>\n"
      ],
      "text/latex": [
       "A data.frame: 6 × 11\n",
       "\\begin{tabular}{r|lllllllllll}\n",
       " lprice & lland & larea & nbh & rooms & cbd & y81 & ldist & baths & age & agesq\\\\\n",
       " <dbl> & <dbl> & <dbl> & <fct> & <int> & <dbl> & <fct> & <dbl> & <int> & <int> & <dbl>\\\\\n",
       "\\hline\n",
       "\t 11.00210 & 8.429017 & 7.414573 & 4 & 7 & 8.006368 & 0 & 9.277999 & 1 & 48 & 2304\\\\\n",
       "\t 10.59663 & 9.032409 & 7.867871 & 4 & 6 & 8.294050 & 0 & 9.305651 & 2 & 83 & 6889\\\\\n",
       "\t 10.43412 & 8.517193 & 7.042286 & 4 & 6 & 8.294050 & 0 & 9.350102 & 1 & 58 & 3364\\\\\n",
       "\t 11.06507 & 9.210340 & 7.035269 & 4 & 5 & 8.294050 & 0 & 9.384294 & 1 & 11 &  121\\\\\n",
       "\t 10.69195 & 9.210340 & 7.532624 & 4 & 5 & 8.294050 & 0 & 9.400961 & 1 & 48 & 2304\\\\\n",
       "\t 10.73640 & 9.159047 & 7.484369 & 4 & 6 & 8.006368 & 0 & 9.210340 & 3 & 78 & 6084\\\\\n",
       "\\end{tabular}\n"
      ],
      "text/markdown": [
       "\n",
       "A data.frame: 6 × 11\n",
       "\n",
       "| lprice &lt;dbl&gt; | lland &lt;dbl&gt; | larea &lt;dbl&gt; | nbh &lt;fct&gt; | rooms &lt;int&gt; | cbd &lt;dbl&gt; | y81 &lt;fct&gt; | ldist &lt;dbl&gt; | baths &lt;int&gt; | age &lt;int&gt; | agesq &lt;dbl&gt; |\n",
       "|---|---|---|---|---|---|---|---|---|---|---|\n",
       "| 11.00210 | 8.429017 | 7.414573 | 4 | 7 | 8.006368 | 0 | 9.277999 | 1 | 48 | 2304 |\n",
       "| 10.59663 | 9.032409 | 7.867871 | 4 | 6 | 8.294050 | 0 | 9.305651 | 2 | 83 | 6889 |\n",
       "| 10.43412 | 8.517193 | 7.042286 | 4 | 6 | 8.294050 | 0 | 9.350102 | 1 | 58 | 3364 |\n",
       "| 11.06507 | 9.210340 | 7.035269 | 4 | 5 | 8.294050 | 0 | 9.384294 | 1 | 11 |  121 |\n",
       "| 10.69195 | 9.210340 | 7.532624 | 4 | 5 | 8.294050 | 0 | 9.400961 | 1 | 48 | 2304 |\n",
       "| 10.73640 | 9.159047 | 7.484369 | 4 | 6 | 8.006368 | 0 | 9.210340 | 3 | 78 | 6084 |\n",
       "\n"
      ],
      "text/plain": [
       "  lprice   lland    larea    nbh rooms cbd      y81 ldist    baths age agesq\n",
       "1 11.00210 8.429017 7.414573 4   7     8.006368 0   9.277999 1     48  2304 \n",
       "2 10.59663 9.032409 7.867871 4   6     8.294050 0   9.305651 2     83  6889 \n",
       "3 10.43412 8.517193 7.042286 4   6     8.294050 0   9.350102 1     58  3364 \n",
       "4 11.06507 9.210340 7.035269 4   5     8.294050 0   9.384294 1     11   121 \n",
       "5 10.69195 9.210340 7.532624 4   5     8.294050 0   9.400961 1     48  2304 \n",
       "6 10.73640 9.159047 7.484369 4   6     8.006368 0   9.210340 3     78  6084 "
      ]
     },
     "metadata": {},
     "output_type": "display_data"
    }
   ],
   "source": [
    "## removing everything from memory\n",
    "rm(list=ls())\n",
    "## turning all warnings off\n",
    "options(warn=-1)\n",
    "\n",
    "## installing the 'wooldridge' package if not previously installed\n",
    "if (!require(wooldridge)) install.packages('wooldridge')\n",
    "\n",
    "## loading the packages\n",
    "library(wooldridge)\n",
    "\n",
    "## see the raw data\n",
    "head(hprice3)\n",
    "\n",
    "## pre-processing the data set\n",
    "hprice3_processed <- subset(hprice3,select=c(\"lprice\",\"lland\",\"larea\",\"nbh\",\"rooms\",\"cbd\",\"y81\",\"ldist\",\"baths\",\"age\",\"agesq\"))\n",
    "hprice3_processed$cbd <- log(hprice3_processed$cbd)\n",
    "hprice3_processed$y81 <- as.factor(hprice3_processed$y81)\n",
    "hprice3_processed$nbh <- as.factor(hprice3_processed$nbh)\n",
    "\n",
    "head(hprice3_processed)"
   ]
  },
  {
   "cell_type": "markdown",
   "metadata": {
    "slideshow": {
     "slide_type": "slide"
    }
   },
   "source": [
    "## Cross-Validation\n",
    "\n",
    "These methods are used to do two things\n",
    "\n",
    "1. _Model Assessment_ - the process of evaluating a model's performance.\n",
    "2. _Model Selection_ - the process of selecting the proper level of flexibility for a model.\n",
    "\n",
    "Since models are 'trained' using training data sets, they are by construction suitable to fit data in these training data sets only (they were fit by minimizing in-sample fitted errors). Since the validation set was not used to fit the model, these set of observations can be used to assess the performance of the model and therefore will allow us to do model selection."
   ]
  },
  {
   "cell_type": "code",
   "execution_count": 2,
   "metadata": {
    "slideshow": {
     "slide_type": "slide"
    }
   },
   "outputs": [
    {
     "name": "stderr",
     "output_type": "stream",
     "text": [
      "Loading required package: caret\n",
      "Loading required package: lattice\n",
      "Loading required package: ggplot2\n"
     ]
    },
    {
     "name": "stdout",
     "output_type": "stream",
     "text": [
      "'data.frame':\t321 obs. of  16 variables:\n",
      " $ lprice: num  11 10.6 10.4 11.1 10.7 ...\n",
      " $ lland : num  8.43 9.03 8.52 9.21 9.21 ...\n",
      " $ larea : num  7.41 7.87 7.04 7.04 7.53 ...\n",
      " $ nbh.1 : num  0 0 0 0 0 0 0 0 0 0 ...\n",
      " $ nbh.2 : num  0 0 0 0 0 0 0 0 0 0 ...\n",
      " $ nbh.3 : num  0 0 0 0 0 0 0 0 0 0 ...\n",
      " $ nbh.4 : num  1 1 1 1 1 1 1 1 1 1 ...\n",
      " $ nbh.5 : num  0 0 0 0 0 0 0 0 0 0 ...\n",
      " $ nbh.6 : num  0 0 0 0 0 0 0 0 0 0 ...\n",
      " $ rooms : num  7 6 6 5 5 6 6 6 8 5 ...\n",
      " $ cbd   : num  8.01 8.29 8.29 8.29 8.29 ...\n",
      " $ y81.1 : num  0 0 0 0 0 0 0 0 0 0 ...\n",
      " $ ldist : num  9.28 9.31 9.35 9.38 9.4 ...\n",
      " $ baths : num  1 2 1 1 1 3 2 2 2 2 ...\n",
      " $ age   : num  48 83 58 11 48 78 22 78 42 41 ...\n",
      " $ agesq : num  2304 6889 3364 121 2304 ...\n"
     ]
    }
   ],
   "source": [
    "## installing the 'caret' package if not previously installed\n",
    "if (!require(caret)) install.packages('caret')\n",
    "\n",
    "## loading the packages\n",
    "library(caret)\n",
    "\n",
    "## continue pre-processing\n",
    "## converting every categorical variable to numerical using dummy variables\n",
    "dmy <- dummyVars(\" ~ .\", data = hprice3_processed,fullRank = T)\n",
    "hprice3_processed <- data.frame(predict(dmy, newdata = hprice3_processed))\n",
    "\n",
    "## looking at the structure of caret package.\n",
    "str(hprice3_processed)"
   ]
  },
  {
   "cell_type": "markdown",
   "metadata": {
    "slideshow": {
     "slide_type": "slide"
    }
   },
   "source": [
    "### The Validation Set Approach"
   ]
  },
  {
   "cell_type": "markdown",
   "metadata": {
    "slideshow": {
     "slide_type": "subslide"
    }
   },
   "source": [
    "![validation_set_approach.png](img/validation_set_approach.png)"
   ]
  },
  {
   "cell_type": "markdown",
   "metadata": {
    "slideshow": {
     "slide_type": "subslide"
    }
   },
   "source": [
    "A schematic display of the validation set approach. A set of $n$ observations are randomly split into a training set (shown in blue, containing observations 7, 22, and 13, among others) and a validation set (shown in beige, and containing observation 91, among others). The statistical learning method is fit on the training set, and its performance is evaluated on the validation set. This can be done many (say $J$) times randomly and then all model assessment measures like $RMSE$, $\\bar{R}^2$, $C_p$, $BIC$, and $AIC$ can be calculated many (say $J$) times.\n",
    "\n",
    "<ins>*Note*</ins>: Recall that if we have a sample $\\{y_1,y_2,\\ldots,y_m\\}$ for which we have predicted $\\{\\widehat{y}_1,\\widehat{y}_2,\\ldots,\\widehat{y}_m\\}$, then the $MSE$ for these samples is defined as\n",
    "\n",
    "$$\n",
    " \\begin{aligned}\n",
    " MSE = \\frac{1}{m}\\sum_{j=1}^m (y_j-\\widehat{y}_j)^2\\text{,}\n",
    " \\end{aligned}\n",
    "$$ \n",
    " and the $RMSE$ is simply defined as $RMSE=\\sqrt{MSE}$."
   ]
  },
  {
   "cell_type": "code",
   "execution_count": 3,
   "metadata": {
    "slideshow": {
     "slide_type": "slide"
    }
   },
   "outputs": [
    {
     "name": "stdout",
     "output_type": "stream",
     "text": [
      "'data.frame':\t259 obs. of  16 variables:\n",
      " $ lprice: num  11 10.6 11.1 10.7 10.9 ...\n",
      " $ lland : num  8.43 9.03 9.21 9.21 9.29 ...\n",
      " $ larea : num  7.41 7.87 7.04 7.53 7.44 ...\n",
      " $ nbh.1 : num  0 0 0 0 0 0 0 0 0 0 ...\n",
      " $ nbh.2 : num  0 0 0 0 0 0 0 0 0 0 ...\n",
      " $ nbh.3 : num  0 0 0 0 0 0 0 0 0 0 ...\n",
      " $ nbh.4 : num  1 1 1 1 1 1 1 1 1 0 ...\n",
      " $ nbh.5 : num  0 0 0 0 0 0 0 0 0 0 ...\n",
      " $ nbh.6 : num  0 0 0 0 0 0 0 0 0 0 ...\n",
      " $ rooms : num  7 6 5 5 6 6 8 5 6 5 ...\n",
      " $ cbd   : num  8.01 8.29 8.29 8.29 8.29 ...\n",
      " $ y81.1 : num  0 0 0 0 0 0 0 0 0 0 ...\n",
      " $ ldist : num  9.28 9.31 9.38 9.4 9.37 ...\n",
      " $ baths : num  1 2 1 1 2 2 2 2 1 1 ...\n",
      " $ age   : num  48 83 11 48 22 78 42 41 78 38 ...\n",
      " $ agesq : num  2304 6889 121 2304 484 ...\n",
      "'data.frame':\t62 obs. of  16 variables:\n",
      " $ lprice: num  10.4 10.7 10.8 10.9 11.2 ...\n",
      " $ lland : num  8.52 9.16 9.44 8.97 9.5 ...\n",
      " $ larea : num  7.04 7.48 7.16 7.15 7.65 ...\n",
      " $ nbh.1 : num  0 0 0 0 0 0 0 0 0 0 ...\n",
      " $ nbh.2 : num  0 0 0 0 0 0 0 0 0 0 ...\n",
      " $ nbh.3 : num  0 0 0 0 0 0 0 0 0 0 ...\n",
      " $ nbh.4 : num  1 1 0 0 1 1 1 1 1 1 ...\n",
      " $ nbh.5 : num  0 0 0 0 0 0 0 0 0 0 ...\n",
      " $ nbh.6 : num  0 0 0 0 0 0 0 0 0 0 ...\n",
      " $ rooms : num  6 6 6 6 5 4 8 6 6 5 ...\n",
      " $ cbd   : num  8.29 8.01 8.52 9.1 8.29 ...\n",
      " $ y81.1 : num  0 0 0 0 0 0 0 0 0 0 ...\n",
      " $ ldist : num  9.35 9.21 9.43 9.73 9.37 ...\n",
      " $ baths : num  1 3 2 1 2 1 2 2 2 1 ...\n",
      " $ age   : num  58 78 18 32 21 24 104 18 1 56 ...\n",
      " $ agesq : num  3364 6084 324 1024 441 ...\n"
     ]
    }
   ],
   "source": [
    "## set the seed for reproducibility\n",
    "set.seed(42)\n",
    "\n",
    "## spliting processed data set into two parts based on outcome: 80% and 20%\n",
    "index <- createDataPartition(hprice3_processed$lprice, p=0.80, list=FALSE)\n",
    "trainSet <- hprice3_processed[ index,]\n",
    "validationSet <- hprice3_processed[-index,]\n",
    "\n",
    "## checking the structure of trainSet\n",
    "str(trainSet)\n",
    "\n",
    "## checking the structure of validationSet\n",
    "str(validationSet)"
   ]
  },
  {
   "cell_type": "markdown",
   "metadata": {
    "slideshow": {
     "slide_type": "slide"
    }
   },
   "source": [
    "**__Example__**: Linear Regression"
   ]
  },
  {
   "cell_type": "code",
   "execution_count": 4,
   "metadata": {
    "slideshow": {
     "slide_type": "fragment"
    }
   },
   "outputs": [
    {
     "data": {
      "text/plain": [
       "\n",
       "Call:\n",
       "lm(formula = lprice ~ ., data = trainSet)\n",
       "\n",
       "Residuals:\n",
       "     Min       1Q   Median       3Q      Max \n",
       "-0.68114 -0.10188  0.01122  0.10738  0.72961 \n",
       "\n",
       "Coefficients:\n",
       "              Estimate Std. Error t value Pr(>|t|)    \n",
       "(Intercept)  7.235e+00  5.587e-01  12.950  < 2e-16 ***\n",
       "lland        1.040e-01  2.695e-02   3.859 0.000146 ***\n",
       "larea        3.062e-01  5.451e-02   5.618 5.27e-08 ***\n",
       "nbh.1       -4.947e-02  5.055e-02  -0.979 0.328732    \n",
       "nbh.2       -7.857e-02  4.142e-02  -1.897 0.059047 .  \n",
       "nbh.3       -1.922e-01  9.419e-02  -2.040 0.042430 *  \n",
       "nbh.4       -1.064e-02  5.474e-02  -0.194 0.846007    \n",
       "nbh.5       -1.234e-01  5.540e-02  -2.227 0.026838 *  \n",
       "nbh.6       -9.216e-02  4.809e-02  -1.916 0.056502 .  \n",
       "rooms        5.508e-02  1.788e-02   3.081 0.002300 ** \n",
       "cbd         -5.870e-02  5.723e-02  -1.026 0.306081    \n",
       "y81.1        3.540e-01  2.548e-02  13.889  < 2e-16 ***\n",
       "ldist        6.478e-02  6.614e-02   0.979 0.328359    \n",
       "baths        1.184e-01  2.981e-02   3.972 9.41e-05 ***\n",
       "age         -7.727e-03  1.525e-03  -5.068 7.97e-07 ***\n",
       "agesq        3.393e-05  9.198e-06   3.689 0.000278 ***\n",
       "---\n",
       "Signif. codes:  0 '***' 0.001 '**' 0.01 '*' 0.05 '.' 0.1 ' ' 1\n",
       "\n",
       "Residual standard error: 0.1949 on 243 degrees of freedom\n",
       "Multiple R-squared:  0.8025,\tAdjusted R-squared:  0.7903 \n",
       "F-statistic: 65.82 on 15 and 243 DF,  p-value: < 2.2e-16\n"
      ]
     },
     "metadata": {},
     "output_type": "display_data"
    },
    {
     "data": {
      "text/html": [
       "<dl class=dl-horizontal>\n",
       "\t<dt>RMSE</dt>\n",
       "\t\t<dd>0.23806045842565</dd>\n",
       "\t<dt>Rsquared</dt>\n",
       "\t\t<dd>0.762101406845068</dd>\n",
       "\t<dt>MAE</dt>\n",
       "\t\t<dd>0.150171771328823</dd>\n",
       "</dl>\n"
      ],
      "text/latex": [
       "\\begin{description*}\n",
       "\\item[RMSE] 0.23806045842565\n",
       "\\item[Rsquared] 0.762101406845068\n",
       "\\item[MAE] 0.150171771328823\n",
       "\\end{description*}\n"
      ],
      "text/markdown": [
       "RMSE\n",
       ":   0.23806045842565Rsquared\n",
       ":   0.762101406845068MAE\n",
       ":   0.150171771328823\n",
       "\n"
      ],
      "text/plain": [
       "     RMSE  Rsquared       MAE \n",
       "0.2380605 0.7621014 0.1501718 "
      ]
     },
     "metadata": {},
     "output_type": "display_data"
    }
   ],
   "source": [
    "## train a linear regression model\n",
    "model <- lm(lprice~., data=trainSet)\n",
    "summary(model)\n",
    "\n",
    "## making predictions\n",
    "predictions <- predict(model, validationSet)\n",
    "\n",
    "##summarize results\n",
    "postResample(pred = predictions, obs = validationSet$lprice)"
   ]
  },
  {
   "cell_type": "markdown",
   "metadata": {
    "slideshow": {
     "slide_type": "slide"
    }
   },
   "source": [
    "### Leave-One-Out Cross-Validation"
   ]
  },
  {
   "cell_type": "markdown",
   "metadata": {
    "slideshow": {
     "slide_type": "subslide"
    }
   },
   "source": [
    "![LOOCV.png](img/LOOCV.png)"
   ]
  },
  {
   "cell_type": "markdown",
   "metadata": {
    "slideshow": {
     "slide_type": "subslide"
    }
   },
   "source": [
    "A schematic display of **LOOCV**. A set of $n$ data points is repeatedly split into a training set (shown in blue) containing all but one observation, and a validation set that contains only that observation (shown in beige). The test error is then estimated by averaging the $n$ resulting $MSE$’s. The first training set contains all but observation 1, the second training set contains all but observation 2, and so forth.\n",
    "\n",
    "Notice that a total of $n$ training data sets containing exactly $n-1$ observations have been constructed along with $n$ corresponding validation data sets containing exactly $1$ observation each.\n",
    "\n",
    "<ins>*Note*</ins>: Recall that in this case we will be using the training data set $\\{(y_1,\\mathbf{x}_1^\\prime),\\ldots,(y_{i-1},\\mathbf{x}_{i-1}^\\prime),(y_{i+1},\\mathbf{x}_{i+1}^\\prime),\\ldots,(y_n,\\mathbf{x}_n^\\prime)\\}$ to predict $y_i$ for $i=1,\\ldots,n$. Therefore the $MSE$ is defined as before for pairs $\\{(y_1,\\widehat{y}_1),\\ldots,(y_n,\\widehat{y}_n)\\}$, i.e., $MSE_i=(y_i-\\widehat{y}_i)^2$, $MSE=n^{-1}\\sum_{i=1}^{n}MSE_i$, and $RMSE=\\sqrt{MSE}$."
   ]
  },
  {
   "cell_type": "markdown",
   "metadata": {
    "slideshow": {
     "slide_type": "slide"
    }
   },
   "source": [
    "**__Example__**: Linear Regression"
   ]
  },
  {
   "cell_type": "code",
   "execution_count": 5,
   "metadata": {
    "slideshow": {
     "slide_type": "fragment"
    }
   },
   "outputs": [
    {
     "name": "stdout",
     "output_type": "stream",
     "text": [
      "Generalized Linear Model \n",
      "\n",
      "321 samples\n",
      " 15 predictor\n",
      "\n",
      "No pre-processing\n",
      "Resampling: Leave-One-Out Cross-Validation \n",
      "Summary of sample sizes: 320, 320, 320, 320, 320, 320, ... \n",
      "Resampling results:\n",
      "\n",
      "  RMSE       Rsquared   MAE      \n",
      "  0.2104742  0.7687971  0.1481018\n",
      "\n"
     ]
    }
   ],
   "source": [
    "## define training control\n",
    "train_control <- trainControl(method=\"LOOCV\")\n",
    "\n",
    "## train the model\n",
    "model <- train(lprice~., data=hprice3_processed, trControl=train_control, method=\"glm\")\n",
    "\n",
    "## summarize results\n",
    "print(model)"
   ]
  },
  {
   "cell_type": "markdown",
   "metadata": {
    "slideshow": {
     "slide_type": "slide"
    }
   },
   "source": [
    "### $k$-Fold Cross-Validation"
   ]
  },
  {
   "cell_type": "markdown",
   "metadata": {
    "slideshow": {
     "slide_type": "subslide"
    }
   },
   "source": [
    "![k_fold_CV.PNG](img/k_fold_CV.PNG)"
   ]
  },
  {
   "cell_type": "markdown",
   "metadata": {
    "slideshow": {
     "slide_type": "subslide"
    }
   },
   "source": [
    "A schematic display of 5-fold CV. A set of $n$ observations is randomly split into five non-overlapping groups. Each of these fifths acts as a validation set (shown in beige), and the remainder as a training set (shown in blue). The test error is estimated by averaging the five resulting $MSE$ estimates.\n",
    "\n",
    "Notice that this approach involves randomly dividing the set of observations into $k$ groups (called __folds__), of approximately equal size. The first fold is treated as a validaton set, and the method is fit on the remaining $k−1$ folds.\n",
    "\n",
    "<ins>*Note*</ins>: For each fold $k$, notice that we can calculate the corresponding $MSE$ using the validation set for that fold. Therefore, we will have $MSE_1,\\ldots,MSE_k$ so $MSE=k^{-1}\\sum_{j=1}^{k}MSE_j$, and $RMSE=\\sqrt{MSE}$."
   ]
  },
  {
   "cell_type": "markdown",
   "metadata": {
    "slideshow": {
     "slide_type": "slide"
    }
   },
   "source": [
    "**__Example__**: Linear Regression"
   ]
  },
  {
   "cell_type": "code",
   "execution_count": 6,
   "metadata": {
    "slideshow": {
     "slide_type": "fragment"
    }
   },
   "outputs": [
    {
     "name": "stdout",
     "output_type": "stream",
     "text": [
      "Generalized Linear Model \n",
      "\n",
      "321 samples\n",
      " 15 predictor\n",
      "\n",
      "No pre-processing\n",
      "Resampling: Cross-Validated (10 fold) \n",
      "Summary of sample sizes: 291, 288, 288, 288, 289, 289, ... \n",
      "Resampling results:\n",
      "\n",
      "  RMSE      Rsquared   MAE     \n",
      "  0.209414  0.7779253  0.149471\n",
      "\n"
     ]
    }
   ],
   "source": [
    "## define training control\n",
    "train_control <- trainControl(method=\"cv\", number=10)\n",
    "\n",
    "## set the seed for reproducibility\n",
    "set.seed(42)\n",
    "\n",
    "## train the model\n",
    "model <- train(lprice~., data=hprice3_processed, trControl=train_control, method=\"glm\")\n",
    "\n",
    "## summarize results\n",
    "print(model)"
   ]
  },
  {
   "cell_type": "code",
   "execution_count": 7,
   "metadata": {},
   "outputs": [
    {
     "name": "stdout",
     "output_type": "stream",
     "text": [
      "Generalized Linear Model \n",
      "\n",
      "321 samples\n",
      " 15 predictor\n",
      "\n",
      "No pre-processing\n",
      "Resampling: Cross-Validated (10 fold, repeated 5 times) \n",
      "Summary of sample sizes: 291, 288, 288, 288, 289, 289, ... \n",
      "Resampling results:\n",
      "\n",
      "  RMSE       Rsquared   MAE      \n",
      "  0.2055031  0.7832241  0.1480505\n",
      "\n"
     ]
    }
   ],
   "source": [
    "## define training control (Repeat the CV 5 times)\n",
    "train_control <- trainControl(method=\"repeatedcv\", number=10,repeats=5)\n",
    "\n",
    "## set the seed for reproducibility\n",
    "set.seed(42)\n",
    "\n",
    "## train the model\n",
    "model <- train(lprice~., data=hprice3_processed, trControl=train_control, method=\"glm\")\n",
    "\n",
    "## summarize results\n",
    "print(model)"
   ]
  },
  {
   "cell_type": "markdown",
   "metadata": {
    "slideshow": {
     "slide_type": "subslide"
    }
   },
   "source": [
    "⚠️ If $k=n$ the method is identical to _leave-one-out cross validation_.\n",
    "\n",
    "⚠️ A disadvantage of $k$-fold cross-validation is that the results can be sensitive to the initial random sorting of the observations. Consequently some practitioners calculate the criterion $M$ times and then average the results."
   ]
  }
 ],
 "metadata": {
  "hide_input": false,
  "kernelspec": {
   "display_name": "R",
   "language": "R",
   "name": "ir"
  },
  "language_info": {
   "codemirror_mode": "r",
   "file_extension": ".r",
   "mimetype": "text/x-r-source",
   "name": "R",
   "pygments_lexer": "r",
   "version": "3.5.0"
  },
  "latex_envs": {
   "LaTeX_envs_menu_present": true,
   "autoclose": false,
   "autocomplete": true,
   "bibliofile": "biblio.bib",
   "cite_by": "apalike",
   "current_citInitial": 1,
   "eqLabelWithNumbers": true,
   "eqNumInitial": 1,
   "hotkeys": {
    "equation": "Ctrl-E",
    "itemize": "Ctrl-I"
   },
   "labels_anchors": false,
   "latex_user_defs": false,
   "report_style_numbering": false,
   "user_envs_cfg": false
  }
 },
 "nbformat": 4,
 "nbformat_minor": 2
}
