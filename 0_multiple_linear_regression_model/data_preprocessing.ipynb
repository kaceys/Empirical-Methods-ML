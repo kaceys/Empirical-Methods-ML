{
 "cells": [
  {
   "cell_type": "markdown",
   "metadata": {
    "slideshow": {
     "slide_type": "slide"
    }
   },
   "source": [
    "# Data Pre-Processing"
   ]
  },
  {
   "cell_type": "markdown",
   "metadata": {
    "slideshow": {
     "slide_type": "slide"
    }
   },
   "source": [
    "## Dealing with [*Missing* Data](https://en.wikipedia.org/wiki/Missing_data)"
   ]
  },
  {
   "cell_type": "markdown",
   "metadata": {
    "slideshow": {
     "slide_type": "fragment"
    }
   },
   "source": [
    "In most online _machine learning_ classes you are taught that when your data set is **incomplete** you can either:\n",
    "1. Erase the corresponding rows with missing cells; or\n",
    "2. _Impute_ (fill) the sample average of each column into those missing cells.\n",
    "\n",
    "It turns out that the second option would require stronger assumptions than the first. If the observations are **missing completely at random** and your sample is i.i.d., the first option is harmless for large data sets."
   ]
  },
  {
   "cell_type": "markdown",
   "metadata": {
    "slideshow": {
     "slide_type": "slide"
    }
   },
   "source": [
    "## Encoding [Categorical Variables](https://en.wikipedia.org/wiki/Categorical_variable)"
   ]
  },
  {
   "cell_type": "markdown",
   "metadata": {
    "slideshow": {
     "slide_type": "subslide"
    }
   },
   "source": [
    "💻 Consider the ```hprice3``` data set from the ```wooldridge``` package:"
   ]
  },
  {
   "cell_type": "code",
   "execution_count": 1,
   "metadata": {
    "slideshow": {
     "slide_type": "fragment"
    }
   },
   "outputs": [
    {
     "name": "stderr",
     "output_type": "stream",
     "text": [
      "Loading required package: wooldridge\n"
     ]
    }
   ],
   "source": [
    "## installing the 'wooldridge' package if not previously installed\n",
    "if (!require(wooldridge)) install.packages('wooldridge')\n",
    "\n",
    "data(hprice3)\n",
    "\n",
    "## Obs:   321\n",
    "\n",
    "##  1. year                     1978, 1981\n",
    "##  2. age                      age of house\n",
    "##  3. agesq                    age^2\n",
    "##  4. nbh                      neighborhood, 1 to 6\n",
    "##  5. cbd                      dist. to central bus. dstrct, feet\n",
    "##  6. inst                     dist. to interstate, feet\n",
    "##  7. linst                    log(inst)\n",
    "##  8. price                    selling price\n",
    "##  9. rooms                    # rooms in house\n",
    "## 10. area                     square footage of house\n",
    "## 11. land                     square footage lot\n",
    "## 12. baths                    # bathrooms\n",
    "## 13. dist                     dist. from house to incin., feet\n",
    "## 14. ldist                    log(dist)\n",
    "## 15. lprice                   log(price)\n",
    "## 16. y81                      =1 if year = 1981\n",
    "## 17. larea                    log(area)\n",
    "## 18. lland                    log(land)\n",
    "## 19. linstsq                  linst^2"
   ]
  },
  {
   "cell_type": "markdown",
   "metadata": {
    "slideshow": {
     "slide_type": "subslide"
    }
   },
   "source": [
    "💻 Variables ```y81```, ```rooms```, and ```nbh``` are examples of <ins>categorical</ins> variables. In Econometrics, ```y81``` is called a standard dummy variable, ```rooms``` is called an _ordered_ categorical variable, ```nbh``` is called an _unordered_ categorical variable. Both ```rooms``` and ```nbh``` have _multiple_ categories. The fucntion ```as.factor()``` with option ```ordered=TRUE``` and ```ordered=FALSE``` (default) will allow us to handle them accordingly in all analysis."
   ]
  },
  {
   "cell_type": "code",
   "execution_count": 2,
   "metadata": {
    "slideshow": {
     "slide_type": "fragment"
    }
   },
   "outputs": [
    {
     "data": {
      "text/plain": [
       "      y81             rooms             nbh       \n",
       " Min.   :0.0000   Min.   : 4.000   Min.   :0.000  \n",
       " 1st Qu.:0.0000   1st Qu.: 6.000   1st Qu.:0.000  \n",
       " Median :0.0000   Median : 7.000   Median :2.000  \n",
       " Mean   :0.4424   Mean   : 6.586   Mean   :2.209  \n",
       " 3rd Qu.:1.0000   3rd Qu.: 7.000   3rd Qu.:4.000  \n",
       " Max.   :1.0000   Max.   :10.000   Max.   :6.000  "
      ]
     },
     "metadata": {},
     "output_type": "display_data"
    },
    {
     "data": {
      "text/plain": [
       " y81     rooms    nbh    \n",
       " 0:179   4 :  4   0:121  \n",
       " 1:142   5 : 30   1: 27  \n",
       "         6 : 96   2: 47  \n",
       "         7 :169   3:  7  \n",
       "         8 : 10   4: 60  \n",
       "         9 : 11   5: 27  \n",
       "         10:  1   6: 32  "
      ]
     },
     "metadata": {},
     "output_type": "display_data"
    }
   ],
   "source": [
    "## without using the 'as.factor' function\n",
    "attach(hprice3)\n",
    "no.factor <- data.frame(y81=y81,rooms=rooms,nbh=nbh)\n",
    "summary(no.factor)\n",
    "detach(hprice3)\n",
    "\n",
    "## using the 'factor' function\n",
    "attach(hprice3)\n",
    "yes.factor <- data.frame(y81=factor(y81),\n",
    "                         rooms=factor(rooms,ordered=TRUE),\n",
    "                         nbh=factor(nbh,ordered=FALSE)\n",
    "                         )\n",
    "summary(yes.factor)\n",
    "detach(hprice3)"
   ]
  },
  {
   "cell_type": "markdown",
   "metadata": {
    "slideshow": {
     "slide_type": "skip"
    },
    "solution2": "hidden",
    "solution2_first": true
   },
   "source": [
    "\n",
    "**<span style=\"color:green\">Exercise:</span>**: Plot a histogram of the variable ```rooms``` when it is not treated as a factor and when it is treated as an ```ordered=TRUE``` factor\n"
   ]
  },
  {
   "cell_type": "code",
   "execution_count": 3,
   "metadata": {
    "solution2": "hidden"
   },
   "outputs": [
    {
     "data": {
      "image/png": "[encoded data removed]",
      "text/plain": [
       "Plot with title \"(Non-Categorical) Rooms\""
      ]
     },
     "metadata": {},
     "output_type": "display_data"
    },
    {
     "data": {
      "image/png": "[encoded data removed]",
      "text/plain": [
       "Plot with title \"(Ordered Categorical) Rooms\""
      ]
     },
     "metadata": {},
     "output_type": "display_data"
    }
   ],
   "source": [
    "hist(no.factor$rooms,main=\"(Non-Categorical) Rooms\",xlab=\"\",ylab=\"\")\n",
    "plot(yes.factor$rooms,main=\"(Ordered Categorical) Rooms\",xlab=\"\",ylab=\"\")"
   ]
  },
  {
   "cell_type": "markdown",
   "metadata": {
    "slideshow": {
     "slide_type": "subslide"
    }
   },
   "source": [
    "💻 The default behavior in regression is to transformed ordered and unordered categorical variable with multiple categories into a set of $c-1$ dummy variables and include them as regressors, where $c$ represents the number of categories."
   ]
  },
  {
   "cell_type": "code",
   "execution_count": 4,
   "metadata": {
    "slideshow": {
     "slide_type": "fragment"
    }
   },
   "outputs": [
    {
     "name": "stderr",
     "output_type": "stream",
     "text": [
      "Loading required package: lmtest\n",
      "Loading required package: zoo\n",
      "\n",
      "Attaching package: 'zoo'\n",
      "\n",
      "The following objects are masked from 'package:base':\n",
      "\n",
      "    as.Date, as.Date.numeric\n",
      "\n",
      "Loading required package: sandwich\n"
     ]
    },
    {
     "data": {
      "text/plain": [
       "\n",
       "t test of coefficients:\n",
       "\n",
       "                       Estimate   Std. Error t value              Pr(>|t|)    \n",
       "(Intercept)         3.497413578  2.266536887  1.5431             0.1238762    \n",
       "lland               0.122178750  0.037345254  3.2716             0.0011950 ** \n",
       "larea               0.353527029  0.064960239  5.4422            0.00000011 ***\n",
       "I(log(cbd))        -0.030909378  0.057676152 -0.5359             0.5924187    \n",
       "as.factor(y81)1     0.379015730  0.024474885 15.4859 < 0.00000000000000022 ***\n",
       "as.factor(rooms)5   0.132637038  0.156849504  0.8456             0.3984363    \n",
       "as.factor(rooms)6   0.061507499  0.158817991  0.3873             0.6988232    \n",
       "as.factor(rooms)7   0.140493063  0.165317814  0.8498             0.3960984    \n",
       "as.factor(rooms)8   0.173819280  0.167557064  1.0374             0.3004028    \n",
       "as.factor(rooms)9   0.290598039  0.183811551  1.5810             0.1149488    \n",
       "as.factor(rooms)10  0.393247317  0.215237037  1.8270             0.0686934 .  \n",
       "as.factor(nbh)1    -0.030538638  0.061345833 -0.4978             0.6189843    \n",
       "as.factor(nbh)2    -0.056836129  0.032002585 -1.7760             0.0767557 .  \n",
       "as.factor(nbh)3    -0.198881539  0.054064977 -3.6786             0.0002782 ***\n",
       "as.factor(nbh)4    -0.013553307  0.048588495 -0.2789             0.7804838    \n",
       "as.factor(nbh)5    -0.071917592  0.041711050 -1.7242             0.0857114 .  \n",
       "as.factor(nbh)6    -0.048267044  0.047859678 -1.0085             0.3140271    \n",
       "linst               0.622789867  0.411821139  1.5123             0.1315218    \n",
       "linstsq            -0.038426270  0.023938313 -1.6052             0.1095045    \n",
       "ldist               0.141697280  0.078728925  1.7998             0.0729017 .  \n",
       "baths               0.098964080  0.027517497  3.5964             0.0003775 ***\n",
       "age                -0.006854517  0.001674310 -4.0939            0.00005467 ***\n",
       "agesq               0.000027411  0.000011508  2.3819             0.0178528 *  \n",
       "---\n",
       "Signif. codes:  0 '***' 0.001 '**' 0.01 '*' 0.05 '.' 0.1 ' ' 1\n"
      ]
     },
     "metadata": {},
     "output_type": "display_data"
    }
   ],
   "source": [
    "ols <- lm(lprice ~ lland + larea + I(log(cbd)) +\n",
    "                   as.factor(y81) + as.factor(rooms) + as.factor(nbh) +\n",
    "                   linst + linstsq + ldist + baths + age + agesq,\n",
    "          data=hprice3)\n",
    "\n",
    "## installing the 'lmtest', 'sandwich' packages if not previously installed\n",
    "if (!require(lmtest)) install.packages('lmtest')\n",
    "if (!require(sandwich)) install.packages('sandwich')\n",
    "\n",
    "## turning 'off' scientific notation\n",
    "options(scipen = 999) \n",
    "\n",
    "## calculating standard t-statistics for 'significance'\n",
    "coeftest(ols, vcov = vcovHC, type = \"HC1\")"
   ]
  },
  {
   "cell_type": "markdown",
   "metadata": {
    "slideshow": {
     "slide_type": "subslide"
    }
   },
   "source": [
    "💻 In many machine learning algorithms you are required to provide the design (model) matrix, $\\mathbf{X}$ (*without* and intercept), and response vector, $\\mathbf{y}$."
   ]
  },
  {
   "cell_type": "markdown",
   "metadata": {
    "slideshow": {
     "slide_type": "skip"
    },
    "solution2": "hidden",
    "solution2_first": true
   },
   "source": [
    "**<span style=\"color:green\">Exercise:</span>**: Use the ```model.matrix``` function to extract the design matrix _without_ an intercept from the previously created ```ols``` object and verify it contains 22 columns of regressors/features."
   ]
  },
  {
   "cell_type": "code",
   "execution_count": 5,
   "metadata": {
    "slideshow": {
     "slide_type": "fragment"
    },
    "solution2": "hidden"
   },
   "outputs": [
    {
     "data": {
      "text/html": [
       "<ol class=list-inline>\n",
       "\t<li>321</li>\n",
       "\t<li>22</li>\n",
       "</ol>\n"
      ],
      "text/latex": [
       "\\begin{enumerate*}\n",
       "\\item 321\n",
       "\\item 22\n",
       "\\end{enumerate*}\n"
      ],
      "text/markdown": [
       "1. 321\n",
       "2. 22\n",
       "\n",
       "\n"
      ],
      "text/plain": [
       "[1] 321  22"
      ]
     },
     "metadata": {},
     "output_type": "display_data"
    },
    {
     "data": {
      "text/html": [
       "<ol class=list-inline>\n",
       "\t<li>'lland'</li>\n",
       "\t<li>'larea'</li>\n",
       "\t<li>'I(log(cbd))'</li>\n",
       "\t<li>'as.factor(y81)1'</li>\n",
       "\t<li>'as.factor(rooms)5'</li>\n",
       "\t<li>'as.factor(rooms)6'</li>\n",
       "\t<li>'as.factor(rooms)7'</li>\n",
       "\t<li>'as.factor(rooms)8'</li>\n",
       "\t<li>'as.factor(rooms)9'</li>\n",
       "\t<li>'as.factor(rooms)10'</li>\n",
       "\t<li>'as.factor(nbh)1'</li>\n",
       "\t<li>'as.factor(nbh)2'</li>\n",
       "\t<li>'as.factor(nbh)3'</li>\n",
       "\t<li>'as.factor(nbh)4'</li>\n",
       "\t<li>'as.factor(nbh)5'</li>\n",
       "\t<li>'as.factor(nbh)6'</li>\n",
       "\t<li>'linst'</li>\n",
       "\t<li>'linstsq'</li>\n",
       "\t<li>'ldist'</li>\n",
       "\t<li>'baths'</li>\n",
       "\t<li>'age'</li>\n",
       "\t<li>'agesq'</li>\n",
       "</ol>\n"
      ],
      "text/latex": [
       "\\begin{enumerate*}\n",
       "\\item 'lland'\n",
       "\\item 'larea'\n",
       "\\item 'I(log(cbd))'\n",
       "\\item 'as.factor(y81)1'\n",
       "\\item 'as.factor(rooms)5'\n",
       "\\item 'as.factor(rooms)6'\n",
       "\\item 'as.factor(rooms)7'\n",
       "\\item 'as.factor(rooms)8'\n",
       "\\item 'as.factor(rooms)9'\n",
       "\\item 'as.factor(rooms)10'\n",
       "\\item 'as.factor(nbh)1'\n",
       "\\item 'as.factor(nbh)2'\n",
       "\\item 'as.factor(nbh)3'\n",
       "\\item 'as.factor(nbh)4'\n",
       "\\item 'as.factor(nbh)5'\n",
       "\\item 'as.factor(nbh)6'\n",
       "\\item 'linst'\n",
       "\\item 'linstsq'\n",
       "\\item 'ldist'\n",
       "\\item 'baths'\n",
       "\\item 'age'\n",
       "\\item 'agesq'\n",
       "\\end{enumerate*}\n"
      ],
      "text/markdown": [
       "1. 'lland'\n",
       "2. 'larea'\n",
       "3. 'I(log(cbd))'\n",
       "4. 'as.factor(y81)1'\n",
       "5. 'as.factor(rooms)5'\n",
       "6. 'as.factor(rooms)6'\n",
       "7. 'as.factor(rooms)7'\n",
       "8. 'as.factor(rooms)8'\n",
       "9. 'as.factor(rooms)9'\n",
       "10. 'as.factor(rooms)10'\n",
       "11. 'as.factor(nbh)1'\n",
       "12. 'as.factor(nbh)2'\n",
       "13. 'as.factor(nbh)3'\n",
       "14. 'as.factor(nbh)4'\n",
       "15. 'as.factor(nbh)5'\n",
       "16. 'as.factor(nbh)6'\n",
       "17. 'linst'\n",
       "18. 'linstsq'\n",
       "19. 'ldist'\n",
       "20. 'baths'\n",
       "21. 'age'\n",
       "22. 'agesq'\n",
       "\n",
       "\n"
      ],
      "text/plain": [
       " [1] \"lland\"              \"larea\"              \"I(log(cbd))\"       \n",
       " [4] \"as.factor(y81)1\"    \"as.factor(rooms)5\"  \"as.factor(rooms)6\" \n",
       " [7] \"as.factor(rooms)7\"  \"as.factor(rooms)8\"  \"as.factor(rooms)9\" \n",
       "[10] \"as.factor(rooms)10\" \"as.factor(nbh)1\"    \"as.factor(nbh)2\"   \n",
       "[13] \"as.factor(nbh)3\"    \"as.factor(nbh)4\"    \"as.factor(nbh)5\"   \n",
       "[16] \"as.factor(nbh)6\"    \"linst\"              \"linstsq\"           \n",
       "[19] \"ldist\"              \"baths\"              \"age\"               \n",
       "[22] \"agesq\"             "
      ]
     },
     "metadata": {},
     "output_type": "display_data"
    }
   ],
   "source": [
    "X <- model.matrix(ols)[,-1]\n",
    "dim(X)\n",
    "colnames(X)"
   ]
  },
  {
   "cell_type": "markdown",
   "metadata": {
    "slideshow": {
     "slide_type": "skip"
    },
    "solution2": "shown",
    "solution2_first": true
   },
   "source": [
    "📌 It is good practice to define categorical variables _outside_ the model formula/fitting. When doing this, one can easily change the 'base' category using the ```relevel()``` function along with the ```within()``` function."
   ]
  },
  {
   "cell_type": "markdown",
   "metadata": {
    "slideshow": {
     "slide_type": "skip"
    },
    "solution2": "hidden",
    "solution2_first": true
   },
   "source": [
    "**<span style=\"color:green\">Exercise:</span>**:\n",
    "1. Create a copy of the ```hprice3``` data frame, call it ```hprice3.copy``` that contains all the variables used in fitting the model ```ols``` above."
   ]
  },
  {
   "cell_type": "code",
   "execution_count": 6,
   "metadata": {
    "solution2": "hidden"
   },
   "outputs": [
    {
     "data": {
      "text/html": [
       "<ol class=list-inline>\n",
       "\t<li>'lprice'</li>\n",
       "\t<li>'lland'</li>\n",
       "\t<li>'larea'</li>\n",
       "\t<li>'cbd'</li>\n",
       "\t<li>'y81'</li>\n",
       "\t<li>'rooms'</li>\n",
       "\t<li>'nbh'</li>\n",
       "\t<li>'linst'</li>\n",
       "\t<li>'linstsq'</li>\n",
       "\t<li>'ldist'</li>\n",
       "\t<li>'baths'</li>\n",
       "\t<li>'age'</li>\n",
       "\t<li>'agesq'</li>\n",
       "</ol>\n"
      ],
      "text/latex": [
       "\\begin{enumerate*}\n",
       "\\item 'lprice'\n",
       "\\item 'lland'\n",
       "\\item 'larea'\n",
       "\\item 'cbd'\n",
       "\\item 'y81'\n",
       "\\item 'rooms'\n",
       "\\item 'nbh'\n",
       "\\item 'linst'\n",
       "\\item 'linstsq'\n",
       "\\item 'ldist'\n",
       "\\item 'baths'\n",
       "\\item 'age'\n",
       "\\item 'agesq'\n",
       "\\end{enumerate*}\n"
      ],
      "text/markdown": [
       "1. 'lprice'\n",
       "2. 'lland'\n",
       "3. 'larea'\n",
       "4. 'cbd'\n",
       "5. 'y81'\n",
       "6. 'rooms'\n",
       "7. 'nbh'\n",
       "8. 'linst'\n",
       "9. 'linstsq'\n",
       "10. 'ldist'\n",
       "11. 'baths'\n",
       "12. 'age'\n",
       "13. 'agesq'\n",
       "\n",
       "\n"
      ],
      "text/plain": [
       " [1] \"lprice\"  \"lland\"   \"larea\"   \"cbd\"     \"y81\"     \"rooms\"   \"nbh\"    \n",
       " [8] \"linst\"   \"linstsq\" \"ldist\"   \"baths\"   \"age\"     \"agesq\"  "
      ]
     },
     "metadata": {},
     "output_type": "display_data"
    }
   ],
   "source": [
    "hprice3.copy <- subset(hprice3,select=c(\"lprice\",\"lland\",\"larea\",\"cbd\",\n",
    "                                        \"y81\",\"rooms\",\"nbh\",\"linst\",\n",
    "                                        \"linstsq\",\"ldist\",\"baths\",\"age\",\"agesq\"))\n",
    "names(hprice3.copy)"
   ]
  },
  {
   "cell_type": "markdown",
   "metadata": {
    "slideshow": {
     "slide_type": "skip"
    },
    "solution2": "hidden",
    "solution2_first": true
   },
   "source": [
    "2. Add the variable ```lcbd``` which equals the natural logarithm of ```cbd``` and then drop ```cbd``` from ```hprice3.copy```."
   ]
  },
  {
   "cell_type": "code",
   "execution_count": 7,
   "metadata": {
    "solution2": "hidden"
   },
   "outputs": [
    {
     "data": {
      "text/html": [
       "<ol class=list-inline>\n",
       "\t<li>'lprice'</li>\n",
       "\t<li>'lland'</li>\n",
       "\t<li>'larea'</li>\n",
       "\t<li>'y81'</li>\n",
       "\t<li>'rooms'</li>\n",
       "\t<li>'nbh'</li>\n",
       "\t<li>'linst'</li>\n",
       "\t<li>'linstsq'</li>\n",
       "\t<li>'ldist'</li>\n",
       "\t<li>'baths'</li>\n",
       "\t<li>'age'</li>\n",
       "\t<li>'agesq'</li>\n",
       "\t<li>'lcbd'</li>\n",
       "</ol>\n"
      ],
      "text/latex": [
       "\\begin{enumerate*}\n",
       "\\item 'lprice'\n",
       "\\item 'lland'\n",
       "\\item 'larea'\n",
       "\\item 'y81'\n",
       "\\item 'rooms'\n",
       "\\item 'nbh'\n",
       "\\item 'linst'\n",
       "\\item 'linstsq'\n",
       "\\item 'ldist'\n",
       "\\item 'baths'\n",
       "\\item 'age'\n",
       "\\item 'agesq'\n",
       "\\item 'lcbd'\n",
       "\\end{enumerate*}\n"
      ],
      "text/markdown": [
       "1. 'lprice'\n",
       "2. 'lland'\n",
       "3. 'larea'\n",
       "4. 'y81'\n",
       "5. 'rooms'\n",
       "6. 'nbh'\n",
       "7. 'linst'\n",
       "8. 'linstsq'\n",
       "9. 'ldist'\n",
       "10. 'baths'\n",
       "11. 'age'\n",
       "12. 'agesq'\n",
       "13. 'lcbd'\n",
       "\n",
       "\n"
      ],
      "text/plain": [
       " [1] \"lprice\"  \"lland\"   \"larea\"   \"y81\"     \"rooms\"   \"nbh\"     \"linst\"  \n",
       " [8] \"linstsq\" \"ldist\"   \"baths\"   \"age\"     \"agesq\"   \"lcbd\"   "
      ]
     },
     "metadata": {},
     "output_type": "display_data"
    }
   ],
   "source": [
    "hprice3.copy$lcbd <- log(hprice3.copy$cbd)\n",
    "hprice3.copy <- subset(hprice3.copy,select=-c(cbd))\n",
    "names(hprice3.copy)"
   ]
  },
  {
   "cell_type": "markdown",
   "metadata": {
    "slideshow": {
     "slide_type": "skip"
    },
    "solution2": "hidden",
    "solution2_first": true
   },
   "source": [
    "3. Replace ```y81```, ```rooms```, and ```nbh``` by their factor versions in ```hprice3.copy```."
   ]
  },
  {
   "cell_type": "code",
   "execution_count": 8,
   "metadata": {
    "solution2": "hidden"
   },
   "outputs": [
    {
     "data": {
      "text/html": [
       "<table>\n",
       "<caption>A data.frame: 6 × 13</caption>\n",
       "<thead>\n",
       "\t<tr><th scope=col>lprice</th><th scope=col>lland</th><th scope=col>larea</th><th scope=col>y81</th><th scope=col>rooms</th><th scope=col>nbh</th><th scope=col>linst</th><th scope=col>linstsq</th><th scope=col>ldist</th><th scope=col>baths</th><th scope=col>age</th><th scope=col>agesq</th><th scope=col>lcbd</th></tr>\n",
       "\t<tr><th scope=col>&lt;dbl&gt;</th><th scope=col>&lt;dbl&gt;</th><th scope=col>&lt;dbl&gt;</th><th scope=col>&lt;fct&gt;</th><th scope=col>&lt;ord&gt;</th><th scope=col>&lt;fct&gt;</th><th scope=col>&lt;dbl&gt;</th><th scope=col>&lt;dbl&gt;</th><th scope=col>&lt;dbl&gt;</th><th scope=col>&lt;int&gt;</th><th scope=col>&lt;int&gt;</th><th scope=col>&lt;dbl&gt;</th><th scope=col>&lt;dbl&gt;</th></tr>\n",
       "</thead>\n",
       "<tbody>\n",
       "\t<tr><td>11.00210</td><td>8.429017</td><td>7.414573</td><td>0</td><td>7</td><td>4</td><td>6.9078</td><td>47.71770</td><td>9.277999</td><td>1</td><td>48</td><td>2304</td><td>8.006368</td></tr>\n",
       "\t<tr><td>10.59663</td><td>9.032409</td><td>7.867871</td><td>0</td><td>6</td><td>4</td><td>6.9078</td><td>47.71770</td><td>9.305651</td><td>2</td><td>83</td><td>6889</td><td>8.294050</td></tr>\n",
       "\t<tr><td>10.43412</td><td>8.517193</td><td>7.042286</td><td>0</td><td>6</td><td>4</td><td>6.9078</td><td>47.71770</td><td>9.350102</td><td>1</td><td>58</td><td>3364</td><td>8.294050</td></tr>\n",
       "\t<tr><td>11.06507</td><td>9.210340</td><td>7.035269</td><td>0</td><td>5</td><td>4</td><td>6.9078</td><td>47.71770</td><td>9.384294</td><td>1</td><td>11</td><td> 121</td><td>8.294050</td></tr>\n",
       "\t<tr><td>10.69195</td><td>9.210340</td><td>7.532624</td><td>0</td><td>5</td><td>4</td><td>7.6009</td><td>57.77368</td><td>9.400961</td><td>1</td><td>48</td><td>2304</td><td>8.294050</td></tr>\n",
       "\t<tr><td>10.73640</td><td>9.159047</td><td>7.484369</td><td>0</td><td>6</td><td>4</td><td>7.6009</td><td>57.77368</td><td>9.210340</td><td>3</td><td>78</td><td>6084</td><td>8.006368</td></tr>\n",
       "</tbody>\n",
       "</table>\n"
      ],
      "text/latex": [
       "A data.frame: 6 × 13\n",
       "\\begin{tabular}{r|lllllllllllll}\n",
       " lprice & lland & larea & y81 & rooms & nbh & linst & linstsq & ldist & baths & age & agesq & lcbd\\\\\n",
       " <dbl> & <dbl> & <dbl> & <fct> & <ord> & <fct> & <dbl> & <dbl> & <dbl> & <int> & <int> & <dbl> & <dbl>\\\\\n",
       "\\hline\n",
       "\t 11.00210 & 8.429017 & 7.414573 & 0 & 7 & 4 & 6.9078 & 47.71770 & 9.277999 & 1 & 48 & 2304 & 8.006368\\\\\n",
       "\t 10.59663 & 9.032409 & 7.867871 & 0 & 6 & 4 & 6.9078 & 47.71770 & 9.305651 & 2 & 83 & 6889 & 8.294050\\\\\n",
       "\t 10.43412 & 8.517193 & 7.042286 & 0 & 6 & 4 & 6.9078 & 47.71770 & 9.350102 & 1 & 58 & 3364 & 8.294050\\\\\n",
       "\t 11.06507 & 9.210340 & 7.035269 & 0 & 5 & 4 & 6.9078 & 47.71770 & 9.384294 & 1 & 11 &  121 & 8.294050\\\\\n",
       "\t 10.69195 & 9.210340 & 7.532624 & 0 & 5 & 4 & 7.6009 & 57.77368 & 9.400961 & 1 & 48 & 2304 & 8.294050\\\\\n",
       "\t 10.73640 & 9.159047 & 7.484369 & 0 & 6 & 4 & 7.6009 & 57.77368 & 9.210340 & 3 & 78 & 6084 & 8.006368\\\\\n",
       "\\end{tabular}\n"
      ],
      "text/markdown": [
       "\n",
       "A data.frame: 6 × 13\n",
       "\n",
       "| lprice &lt;dbl&gt; | lland &lt;dbl&gt; | larea &lt;dbl&gt; | y81 &lt;fct&gt; | rooms &lt;ord&gt; | nbh &lt;fct&gt; | linst &lt;dbl&gt; | linstsq &lt;dbl&gt; | ldist &lt;dbl&gt; | baths &lt;int&gt; | age &lt;int&gt; | agesq &lt;dbl&gt; | lcbd &lt;dbl&gt; |\n",
       "|---|---|---|---|---|---|---|---|---|---|---|---|---|\n",
       "| 11.00210 | 8.429017 | 7.414573 | 0 | 7 | 4 | 6.9078 | 47.71770 | 9.277999 | 1 | 48 | 2304 | 8.006368 |\n",
       "| 10.59663 | 9.032409 | 7.867871 | 0 | 6 | 4 | 6.9078 | 47.71770 | 9.305651 | 2 | 83 | 6889 | 8.294050 |\n",
       "| 10.43412 | 8.517193 | 7.042286 | 0 | 6 | 4 | 6.9078 | 47.71770 | 9.350102 | 1 | 58 | 3364 | 8.294050 |\n",
       "| 11.06507 | 9.210340 | 7.035269 | 0 | 5 | 4 | 6.9078 | 47.71770 | 9.384294 | 1 | 11 |  121 | 8.294050 |\n",
       "| 10.69195 | 9.210340 | 7.532624 | 0 | 5 | 4 | 7.6009 | 57.77368 | 9.400961 | 1 | 48 | 2304 | 8.294050 |\n",
       "| 10.73640 | 9.159047 | 7.484369 | 0 | 6 | 4 | 7.6009 | 57.77368 | 9.210340 | 3 | 78 | 6084 | 8.006368 |\n",
       "\n"
      ],
      "text/plain": [
       "  lprice   lland    larea    y81 rooms nbh linst  linstsq  ldist    baths age\n",
       "1 11.00210 8.429017 7.414573 0   7     4   6.9078 47.71770 9.277999 1     48 \n",
       "2 10.59663 9.032409 7.867871 0   6     4   6.9078 47.71770 9.305651 2     83 \n",
       "3 10.43412 8.517193 7.042286 0   6     4   6.9078 47.71770 9.350102 1     58 \n",
       "4 11.06507 9.210340 7.035269 0   5     4   6.9078 47.71770 9.384294 1     11 \n",
       "5 10.69195 9.210340 7.532624 0   5     4   7.6009 57.77368 9.400961 1     48 \n",
       "6 10.73640 9.159047 7.484369 0   6     4   7.6009 57.77368 9.210340 3     78 \n",
       "  agesq lcbd    \n",
       "1 2304  8.006368\n",
       "2 6889  8.294050\n",
       "3 3364  8.294050\n",
       "4  121  8.294050\n",
       "5 2304  8.294050\n",
       "6 6084  8.006368"
      ]
     },
     "metadata": {},
     "output_type": "display_data"
    }
   ],
   "source": [
    "hprice3.copy$y81 <- factor(hprice3.copy$y81)\n",
    "hprice3.copy$rooms <- factor(hprice3.copy$rooms,ordered=TRUE)\n",
    "hprice3.copy$nbh <- factor(hprice3.copy$nbh,ordered=FALSE)\n",
    "head(hprice3.copy)"
   ]
  },
  {
   "cell_type": "markdown",
   "metadata": {
    "slideshow": {
     "slide_type": "skip"
    },
    "solution2": "hidden",
    "solution2_first": true
   },
   "source": [
    "4. Make ```y81==1``` and ```nbh==3``` the base categories in ```hprice3.copy```"
   ]
  },
  {
   "cell_type": "code",
   "execution_count": 9,
   "metadata": {
    "solution2": "hidden"
   },
   "outputs": [],
   "source": [
    "hprice3.copy <- within(hprice3.copy, y81 <- relevel(y81,ref=2))\n",
    "hprice3.copy <- within(hprice3.copy, nbh <- relevel(nbh,ref=4))"
   ]
  },
  {
   "cell_type": "markdown",
   "metadata": {
    "slideshow": {
     "slide_type": "skip"
    },
    "solution2": "hidden",
    "solution2_first": true
   },
   "source": [
    "5. Run a regression of ```lprice``` on all the other features in the ```hprice3.copy``` and report the outcome."
   ]
  },
  {
   "cell_type": "code",
   "execution_count": 10,
   "metadata": {
    "solution2": "hidden"
   },
   "outputs": [
    {
     "data": {
      "text/html": [
       "<dl class=dl-horizontal>\n",
       "\t<dt>(Intercept)</dt>\n",
       "\t\t<dd>3.84787665909868</dd>\n",
       "\t<dt>lland</dt>\n",
       "\t\t<dd>0.12217874952651</dd>\n",
       "\t<dt>larea</dt>\n",
       "\t\t<dd>0.353527028899428</dd>\n",
       "\t<dt>y810</dt>\n",
       "\t\t<dd>-0.379015729566357</dd>\n",
       "\t<dt>rooms.L</dt>\n",
       "\t\t<dd>0.303878850400968</dd>\n",
       "\t<dt>rooms.Q</dt>\n",
       "\t\t<dd>0.0761890304553728</dd>\n",
       "\t<dt>rooms.C</dt>\n",
       "\t\t<dd>0.050204144007461</dd>\n",
       "\t<dt>rooms^4</dt>\n",
       "\t\t<dd>-0.0567797714637586</dd>\n",
       "\t<dt>rooms^5</dt>\n",
       "\t\t<dd>0.0352380667520508</dd>\n",
       "\t<dt>rooms^6</dt>\n",
       "\t\t<dd>-0.0469159928372361</dd>\n",
       "\t<dt>nbh0</dt>\n",
       "\t\t<dd>0.198881539415291</dd>\n",
       "\t<dt>nbh1</dt>\n",
       "\t\t<dd>0.168342901406305</dd>\n",
       "\t<dt>nbh2</dt>\n",
       "\t\t<dd>0.142045410382561</dd>\n",
       "\t<dt>nbh4</dt>\n",
       "\t\t<dd>0.185328231993291</dd>\n",
       "\t<dt>nbh5</dt>\n",
       "\t\t<dd>0.126963947645286</dd>\n",
       "\t<dt>nbh6</dt>\n",
       "\t\t<dd>0.150614495344777</dd>\n",
       "\t<dt>linst</dt>\n",
       "\t\t<dd>0.622789866785065</dd>\n",
       "\t<dt>linstsq</dt>\n",
       "\t\t<dd>-0.0384262698417851</dd>\n",
       "\t<dt>ldist</dt>\n",
       "\t\t<dd>0.141697279989825</dd>\n",
       "\t<dt>baths</dt>\n",
       "\t\t<dd>0.098964080183977</dd>\n",
       "\t<dt>age</dt>\n",
       "\t\t<dd>-0.00685451709129218</dd>\n",
       "\t<dt>agesq</dt>\n",
       "\t\t<dd>0.0000274108596109873</dd>\n",
       "\t<dt>lcbd</dt>\n",
       "\t\t<dd>-0.0309093781389332</dd>\n",
       "</dl>\n"
      ],
      "text/latex": [
       "\\begin{description*}\n",
       "\\item[(Intercept)] 3.84787665909868\n",
       "\\item[lland] 0.12217874952651\n",
       "\\item[larea] 0.353527028899428\n",
       "\\item[y810] -0.379015729566357\n",
       "\\item[rooms.L] 0.303878850400968\n",
       "\\item[rooms.Q] 0.0761890304553728\n",
       "\\item[rooms.C] 0.050204144007461\n",
       "\\item[rooms\\textbackslash{}textasciicircum\\{\\}4] -0.0567797714637586\n",
       "\\item[rooms\\textbackslash{}textasciicircum\\{\\}5] 0.0352380667520508\n",
       "\\item[rooms\\textbackslash{}textasciicircum\\{\\}6] -0.0469159928372361\n",
       "\\item[nbh0] 0.198881539415291\n",
       "\\item[nbh1] 0.168342901406305\n",
       "\\item[nbh2] 0.142045410382561\n",
       "\\item[nbh4] 0.185328231993291\n",
       "\\item[nbh5] 0.126963947645286\n",
       "\\item[nbh6] 0.150614495344777\n",
       "\\item[linst] 0.622789866785065\n",
       "\\item[linstsq] -0.0384262698417851\n",
       "\\item[ldist] 0.141697279989825\n",
       "\\item[baths] 0.098964080183977\n",
       "\\item[age] -0.00685451709129218\n",
       "\\item[agesq] 0.0000274108596109873\n",
       "\\item[lcbd] -0.0309093781389332\n",
       "\\end{description*}\n"
      ],
      "text/markdown": [
       "(Intercept)\n",
       ":   3.84787665909868lland\n",
       ":   0.12217874952651larea\n",
       ":   0.353527028899428y810\n",
       ":   -0.379015729566357rooms.L\n",
       ":   0.303878850400968rooms.Q\n",
       ":   0.0761890304553728rooms.C\n",
       ":   0.050204144007461rooms^4\n",
       ":   -0.0567797714637586rooms^5\n",
       ":   0.0352380667520508rooms^6\n",
       ":   -0.0469159928372361nbh0\n",
       ":   0.198881539415291nbh1\n",
       ":   0.168342901406305nbh2\n",
       ":   0.142045410382561nbh4\n",
       ":   0.185328231993291nbh5\n",
       ":   0.126963947645286nbh6\n",
       ":   0.150614495344777linst\n",
       ":   0.622789866785065linstsq\n",
       ":   -0.0384262698417851ldist\n",
       ":   0.141697279989825baths\n",
       ":   0.098964080183977age\n",
       ":   -0.00685451709129218agesq\n",
       ":   0.0000274108596109873lcbd\n",
       ":   -0.0309093781389332\n",
       "\n"
      ],
      "text/plain": [
       "   (Intercept)          lland          larea           y810        rooms.L \n",
       " 3.84787665910  0.12217874953  0.35352702890 -0.37901572957  0.30387885040 \n",
       "       rooms.Q        rooms.C        rooms^4        rooms^5        rooms^6 \n",
       " 0.07618903046  0.05020414401 -0.05677977146  0.03523806675 -0.04691599284 \n",
       "          nbh0           nbh1           nbh2           nbh4           nbh5 \n",
       " 0.19888153942  0.16834290141  0.14204541038  0.18532823199  0.12696394765 \n",
       "          nbh6          linst        linstsq          ldist          baths \n",
       " 0.15061449534  0.62278986679 -0.03842626984  0.14169727999  0.09896408018 \n",
       "           age          agesq           lcbd \n",
       "-0.00685451709  0.00002741086 -0.03090937814 "
      ]
     },
     "metadata": {},
     "output_type": "display_data"
    }
   ],
   "source": [
    "ols.sim <- lm(lprice~.,data=hprice3.copy)\n",
    "coef(ols.sim)"
   ]
  },
  {
   "cell_type": "markdown",
   "metadata": {
    "slideshow": {
     "slide_type": "slide"
    }
   },
   "source": [
    "## Including [Interaction Terms](https://en.wikipedia.org/wiki/Interaction_(statistics) )"
   ]
  },
  {
   "cell_type": "markdown",
   "metadata": {
    "slideshow": {
     "slide_type": "fragment"
    }
   },
   "source": [
    "In the previously fitted model we included ```linstsq``` and ```agesq``` as predictors. These correspond to the squared of the original predictors ```linst``` and ```age```. In economics we include such predictors to account for increasing/decreasing returns to scale in modelling. Since $\\texttt{linst}^2=\\texttt{linst}\\times\\texttt{linst}$ and $\\texttt{age}^2=\\texttt{age}\\times\\texttt{age}$, one can think of them as a specific type of interaction terms (products with themselves)."
   ]
  },
  {
   "cell_type": "markdown",
   "metadata": {
    "slideshow": {
     "slide_type": "fragment"
    }
   },
   "source": [
    "<ins>Example</ins>: Consider the following version of the previously estimated model\n",
    "\n",
    "$$\n",
    "\\begin{aligned}\n",
    "\\texttt{lprice}&=\\beta_0+\\beta_1\\texttt{lland}+\\beta_2\\texttt{larea}+ \\beta_3\\texttt{linst}+\\beta_4\\texttt{age}\\\\\n",
    "               & + \\beta_5\\texttt{linst}\\times\\texttt{age}+\\beta_6\\texttt{linst}^2+\\beta_7\\texttt{age}^2+e\n",
    "\\end{aligned}\n",
    "$$"
   ]
  },
  {
   "cell_type": "code",
   "execution_count": 11,
   "metadata": {
    "slideshow": {
     "slide_type": "subslide"
    }
   },
   "outputs": [
    {
     "data": {
      "text/html": [
       "<dl class=dl-horizontal>\n",
       "\t<dt>(Intercept)</dt>\n",
       "\t\t<dd>2.25472</dd>\n",
       "\t<dt>lland</dt>\n",
       "\t\t<dd>0.10212</dd>\n",
       "\t<dt>larea</dt>\n",
       "\t\t<dd>0.63839</dd>\n",
       "\t<dt>linst</dt>\n",
       "\t\t<dd>0.85279</dd>\n",
       "\t<dt>age</dt>\n",
       "\t\t<dd>-0.01741</dd>\n",
       "\t<dt>I(linst * age)</dt>\n",
       "\t\t<dd>0.00074</dd>\n",
       "\t<dt>linstsq</dt>\n",
       "\t\t<dd>-0.05226</dd>\n",
       "\t<dt>agesq</dt>\n",
       "\t\t<dd>0.00004</dd>\n",
       "</dl>\n"
      ],
      "text/latex": [
       "\\begin{description*}\n",
       "\\item[(Intercept)] 2.25472\n",
       "\\item[lland] 0.10212\n",
       "\\item[larea] 0.63839\n",
       "\\item[linst] 0.85279\n",
       "\\item[age] -0.01741\n",
       "\\item[I(linst * age)] 0.00074\n",
       "\\item[linstsq] -0.05226\n",
       "\\item[agesq] 0.00004\n",
       "\\end{description*}\n"
      ],
      "text/markdown": [
       "(Intercept)\n",
       ":   2.25472lland\n",
       ":   0.10212larea\n",
       ":   0.63839linst\n",
       ":   0.85279age\n",
       ":   -0.01741I(linst * age)\n",
       ":   0.00074linstsq\n",
       ":   -0.05226agesq\n",
       ":   0.00004\n",
       "\n"
      ],
      "text/plain": [
       "   (Intercept)          lland          larea          linst            age \n",
       "       2.25472        0.10212        0.63839        0.85279       -0.01741 \n",
       "I(linst * age)        linstsq          agesq \n",
       "       0.00074       -0.05226        0.00004 "
      ]
     },
     "metadata": {},
     "output_type": "display_data"
    }
   ],
   "source": [
    "## OLS: estimating this new model\n",
    "ols.0 <- lm(lprice ~ lland + larea + linst + age\n",
    "                     + I(linst*age) + linstsq + agesq,\n",
    "          data=hprice3)\n",
    "round(coef(ols.0),5)"
   ]
  },
  {
   "cell_type": "markdown",
   "metadata": {
    "slideshow": {
     "slide_type": "subslide"
    }
   },
   "source": [
    "By defining $\\mathbf{x}=[\\texttt{lland},\\texttt{larea},\\texttt{linst},\\texttt{age}]^\\prime$, and Assumption MLR.4, one has\n",
    "\n",
    "$$\n",
    "\\frac{\\partial E[\\texttt{lprice}|\\mathbf{x}]}{\\partial \\texttt{linst}}=\\beta_3+\\beta_5\\texttt{age}+2\\beta_6\\texttt{linst}.\n",
    "$$\n",
    "\n",
    "Then $\\beta_3$ represents the average price elasticty with respect to the distance from the highway for a home that is brand new ($\\texttt{age}=0$) and that is located 1 feet away from the highway ($\\texttt{linst}=\\log(\\texttt{inst})=0$, i.e., $\\texttt{inst}=1$)."
   ]
  },
  {
   "cell_type": "markdown",
   "metadata": {
    "slideshow": {
     "slide_type": "fragment"
    }
   },
   "source": [
    "💻 Calculating the summary statistics for variables ```age``` and ```inst``` in the data set."
   ]
  },
  {
   "cell_type": "code",
   "execution_count": 12,
   "metadata": {
    "slideshow": {
     "slide_type": "fragment"
    }
   },
   "outputs": [
    {
     "name": "stdout",
     "output_type": "stream",
     "text": [
      "      age              inst           linst       \n",
      " Min.   :  0.00   Min.   : 1000   Min.   : 6.908  \n",
      " 1st Qu.:  0.00   1st Qu.: 9000   1st Qu.: 9.105  \n",
      " Median :  4.00   Median :16000   Median : 9.680  \n",
      " Mean   : 18.01   Mean   :16442   Mean   : 9.481  \n",
      " 3rd Qu.: 22.00   3rd Qu.:24000   3rd Qu.:10.086  \n",
      " Max.   :189.00   Max.   :34000   Max.   :10.434  \n"
     ]
    }
   ],
   "source": [
    "## printing summary statistics for 'age' and 'inst'\n",
    "print(summary(subset(hprice3,select=c(\"age\",\"inst\",\"linst\"))))"
   ]
  },
  {
   "cell_type": "markdown",
   "metadata": {
    "slideshow": {
     "slide_type": "subslide"
    }
   },
   "source": [
    "Now consider the following alternative specification\n",
    "\n",
    "$$\n",
    "\\begin{aligned}\n",
    "\\texttt{lprice}&=\\delta_0+\\beta_1\\texttt{lland}+\\beta_2\\texttt{larea}+ \\delta_3\\texttt{linst}+\\delta_4\\texttt{age}\\\\\n",
    "               & + \\beta_5[\\texttt{linst}-\\mu_{\\texttt{linst}}]\\times[\\texttt{age}-\\mu_{\\texttt{age}}]+\\beta_6[\\texttt{linst}-\\mu_{\\texttt{linst}}]^2+\\beta_7[\\texttt{age}-\\mu_{\\texttt{age}}]^2+e.\n",
    "\\end{aligned}\n",
    "$$\n",
    "\n",
    "In this case\n",
    "\n",
    "$$\n",
    "\\frac{\\partial E[\\texttt{lprice}|\\mathbf{x}]}{\\partial \\texttt{linst}}=\\delta_3+\\beta_5[\\texttt{age}-\\mu_{\\texttt{age}}]+2\\beta_6[\\texttt{linst}-\\mu_{\\texttt{linst}}].\n",
    "$$\n",
    "\n",
    "Then $\\delta_3$ represents the average price elasticty with respect to the distance from the highway for a home that is 18 years old ($\\widehat{\\mu}_{\\texttt{age}}\\approx 18.01$) and that is located 16,442 feet away from the highway ($\\widehat{\\mu}_{\\texttt{inst}}\\approx 16,442$)."
   ]
  },
  {
   "cell_type": "code",
   "execution_count": 13,
   "metadata": {
    "slideshow": {
     "slide_type": "subslide"
    }
   },
   "outputs": [
    {
     "data": {
      "text/html": [
       "<table>\n",
       "<caption>A data.frame: 8 × 2</caption>\n",
       "<thead>\n",
       "\t<tr><th></th><th scope=col>ols.0</th><th scope=col>ols.1</th></tr>\n",
       "\t<tr><th></th><th scope=col>&lt;dbl&gt;</th><th scope=col>&lt;dbl&gt;</th></tr>\n",
       "</thead>\n",
       "<tbody>\n",
       "\t<tr><th scope=row>(Intercept)</th><td> 2.25472</td><td> 7.03626</td></tr>\n",
       "\t<tr><th scope=row>lland</th><td> 0.10212</td><td> 0.10212</td></tr>\n",
       "\t<tr><th scope=row>larea</th><td> 0.63839</td><td> 0.63839</td></tr>\n",
       "\t<tr><th scope=row>linst</th><td> 0.85279</td><td>-0.14856</td></tr>\n",
       "\t<tr><th scope=row>age</th><td>-0.01741</td><td>-0.00865</td></tr>\n",
       "\t<tr><th scope=row>I(linst * age)</th><td> 0.00074</td><td> 0.00074</td></tr>\n",
       "\t<tr><th scope=row>linstsq</th><td>-0.05226</td><td>-0.05226</td></tr>\n",
       "\t<tr><th scope=row>agesq</th><td> 0.00004</td><td> 0.00004</td></tr>\n",
       "</tbody>\n",
       "</table>\n"
      ],
      "text/latex": [
       "A data.frame: 8 × 2\n",
       "\\begin{tabular}{r|ll}\n",
       "  & ols.0 & ols.1\\\\\n",
       "  & <dbl> & <dbl>\\\\\n",
       "\\hline\n",
       "\t(Intercept) &  2.25472 &  7.03626\\\\\n",
       "\tlland &  0.10212 &  0.10212\\\\\n",
       "\tlarea &  0.63839 &  0.63839\\\\\n",
       "\tlinst &  0.85279 & -0.14856\\\\\n",
       "\tage & -0.01741 & -0.00865\\\\\n",
       "\tI(linst * age) &  0.00074 &  0.00074\\\\\n",
       "\tlinstsq & -0.05226 & -0.05226\\\\\n",
       "\tagesq &  0.00004 &  0.00004\\\\\n",
       "\\end{tabular}\n"
      ],
      "text/markdown": [
       "\n",
       "A data.frame: 8 × 2\n",
       "\n",
       "| <!--/--> | ols.0 &lt;dbl&gt; | ols.1 &lt;dbl&gt; |\n",
       "|---|---|---|\n",
       "| (Intercept) |  2.25472 |  7.03626 |\n",
       "| lland |  0.10212 |  0.10212 |\n",
       "| larea |  0.63839 |  0.63839 |\n",
       "| linst |  0.85279 | -0.14856 |\n",
       "| age | -0.01741 | -0.00865 |\n",
       "| I(linst * age) |  0.00074 |  0.00074 |\n",
       "| linstsq | -0.05226 | -0.05226 |\n",
       "| agesq |  0.00004 |  0.00004 |\n",
       "\n"
      ],
      "text/plain": [
       "               ols.0    ols.1   \n",
       "(Intercept)     2.25472  7.03626\n",
       "lland           0.10212  0.10212\n",
       "larea           0.63839  0.63839\n",
       "linst           0.85279 -0.14856\n",
       "age            -0.01741 -0.00865\n",
       "I(linst * age)  0.00074  0.00074\n",
       "linstsq        -0.05226 -0.05226\n",
       "agesq           0.00004  0.00004"
      ]
     },
     "metadata": {},
     "output_type": "display_data"
    }
   ],
   "source": [
    "## OLS: estimating this new 'version' model\n",
    "ols.1 <- lm(lprice ~ lland + larea + linst + age\n",
    "                     + I((linst-log(mean(inst)))*(age-mean(age)))\n",
    "                     + I((linst-log(mean(inst)))^2) + I((age-mean(age))^2),\n",
    "          data=hprice3)\n",
    "\n",
    "## printing ols results up to 5 decimals\n",
    "round(data.frame(ols.0=coef(ols.0),ols.1=coef(ols.1)),5)"
   ]
  },
  {
   "cell_type": "markdown",
   "metadata": {
    "slideshow": {
     "slide_type": "fragment"
    }
   },
   "source": [
    "⁉️ Is it a coincidence that some of the estimates are the same in both specifications? provide an algebraic explanation."
   ]
  },
  {
   "cell_type": "markdown",
   "metadata": {
    "slideshow": {
     "slide_type": "slide"
    }
   },
   "source": [
    "## Beta Coefficients"
   ]
  },
  {
   "cell_type": "markdown",
   "metadata": {
    "slideshow": {
     "slide_type": "subslide"
    }
   },
   "source": [
    "Why is standardization useful? It is easiest to start with the original OLS equation, with the variables in their original forms:\n",
    "\n",
    "$$\n",
    "y_{i}=\\widehat{\\beta}_{0}+\\widehat{\\beta}_{1} x_{i 1}+\\widehat{\\beta}_{2} x_{i 2}+\\ldots+\\widehat{\\beta}_{k} x_{i k}+\\hat{e}_{i}.\n",
    "$$\n",
    "\n",
    "We have included the observation subscript i to emphasize that our standardization is applied to all sample values. If we average the previous equation and use the fact that $\\{\\widehat{e}_i:i=1,\\ldots,n\\}$ has sample mean zero one has\n",
    "\n",
    "$$\n",
    "y_{i}-\\overline{y}=\\widehat{\\beta}_{1}\\left(x_{i 1}-\\overline{x}_{1}\\right)+\\widehat{\\beta}_{2}\\left(x_{i 2}-\\overline{x}_{2}\\right)+\\ldots+\\widehat{\\beta}_{k}\\left(x_{i k}-\\overline{x}_{k}\\right)+\\widehat{e}_{i}.\n",
    "$$"
   ]
  },
  {
   "cell_type": "markdown",
   "metadata": {
    "slideshow": {
     "slide_type": "subslide"
    }
   },
   "source": [
    "Now, let $\\widehat{\\sigma}_{y}$ be the sample standard deviation for the dependent variable, let $\\widehat{\\sigma}_{1}$ be the sample sd for $x_{1}$, let $\\widehat{\\sigma}_{2}$ be the sample standard deviation, ```sd()```, for $x_{2}$, and so on. Then, simple algebra gives the equation\n",
    "\n",
    "$$\n",
    "\\begin{aligned}\n",
    "\\left(y_{i}-\\overline{y}\\right) / \\widehat{\\sigma}_{y} &=\\left(\\widehat{\\sigma}_{1} / \\widehat{\\sigma}_{y}\\right) \\widehat{\\beta}_{1}\\left[\\left(x_{i 1}-\\overline{x}_{1}\\right) / \\widehat{\\sigma}_{1}\\right]+\\ldots \\\\ &+\\left(\\widehat{\\sigma}_{k} / \\widehat{\\sigma}_{y}\\right) \\widehat{\\beta}_{k}\\left[\\left(x_{i k}-\\overline{x}_{k}\\right) / \\widehat{\\sigma}_{k}\\right]+\\left(\\widehat{e}_{i} / \\widehat{\\sigma}_{y}\\right).\n",
    "\\end{aligned}\n",
    "$$\n",
    "\n",
    "Now define $z_{i y}=\\left(y_{i}-\\overline{y}\\right) / \\widehat{\\sigma}_{y}$, $z_{i l}=\\left[\\left(x_{i l}-\\overline{x}_{l}\\right) / \\widehat{\\sigma}_{l}\\right]$, $\\widehat{b}_{l}=\\left(\\widehat{\\sigma}_{l} / \\widehat{\\sigma}_{y}\\right) \\widehat{\\beta}_{l}$ for $l=1,\\ldots,k$, and $\\widehat{\\varepsilon}_i=\\left(\\widehat{e}_{i} / \\widehat{\\sigma}_{y}\\right)$. Then\n",
    "\n",
    "$$\n",
    "z_{y}=\\widehat{b}_{1} z_{1}+\\widehat{b}_{2} z_{2}+\\ldots+\\widehat{b}_{k} z_{k}+\\widehat{\\varepsilon}_i.\n",
    "$$\n",
    "\n",
    "The new coefficients are\n",
    "\n",
    "$$\n",
    "\\widehat{b}_{j}=\\left(\\widehat{\\sigma}_{j} / \\widehat{\\sigma}_{y}\\right) \\widehat{\\beta}_{j} \\text { for } j=1, \\ldots, k.\n",
    "$$\n",
    "\n",
    "These $\\widehat{b}_{j}$ are traditionally called **standardized coefficients** or **beta coefficients**.\n",
    "\n",
    "✍🏽 If $x_l$ increases by one standard deviation, then $\\widehat{y}$ changes by $\\widehat{b}_l$ standard deviations. Thus, *we are measuring effects not in terms of the original units of $y$ or the $x_l$, but in standard deviation units*."
   ]
  },
  {
   "cell_type": "code",
   "execution_count": 14,
   "metadata": {
    "slideshow": {
     "slide_type": "subslide"
    }
   },
   "outputs": [
    {
     "name": "stderr",
     "output_type": "stream",
     "text": [
      "Loading required package: lm.beta\n"
     ]
    },
    {
     "data": {
      "text/plain": [
       "\n",
       "Call:\n",
       "lm(formula = lprice ~ lland + larea + linst + age + I((linst - \n",
       "    log(mean(inst))) * (age - mean(age))) + I((linst - log(mean(inst)))^2) + \n",
       "    I((age - mean(age))^2), data = hprice3)\n",
       "\n",
       "Standardized Coefficients::\n",
       "                                     (Intercept) \n",
       "                                      0.00000000 \n",
       "                                           lland \n",
       "                                      0.18685413 \n",
       "                                           larea \n",
       "                                      0.49640630 \n",
       "                                           linst \n",
       "                                     -0.26349631 \n",
       "                                             age \n",
       "                                     -0.64300498 \n",
       "I((linst - log(mean(inst))) * (age - mean(age))) \n",
       "                                      0.05000987 \n",
       "                  I((linst - log(mean(inst)))^2) \n",
       "                                     -0.15421830 \n",
       "                          I((age - mean(age))^2) \n",
       "                                      0.37490499 \n"
      ]
     },
     "metadata": {},
     "output_type": "display_data"
    }
   ],
   "source": [
    "## installing the 'lm.beta' package if not previously installed\n",
    "if (!require(lm.beta)) install.packages('lm.beta')\n",
    "\n",
    "lm.beta(ols.1)"
   ]
  },
  {
   "cell_type": "markdown",
   "metadata": {
    "slideshow": {
     "slide_type": "subslide"
    }
   },
   "source": [
    "💻 Since each $x_l$ have been standardized, comparing the _magnitudes_ of the resulting beta coefficients is now useful. The ```age``` of the house seems to have the largest effect on the price of a home."
   ]
  },
  {
   "cell_type": "markdown",
   "metadata": {
    "slideshow": {
     "slide_type": "fragment"
    }
   },
   "source": [
    "<ins>Pre-Processing in Machine Learning</ins>: In machine learning, standardizing (*re-centering* and *scaling*) predictors is commonly done before model fitting. No transformation is usually done to the outcome variable."
   ]
  },
  {
   "cell_type": "code",
   "execution_count": 15,
   "metadata": {
    "slideshow": {
     "slide_type": "fragment"
    }
   },
   "outputs": [
    {
     "name": "stderr",
     "output_type": "stream",
     "text": [
      "Loading required package: caret\n",
      "Warning message:\n",
      "\"package 'caret' was built under R version 3.6.2\"Loading required package: lattice\n",
      "Loading required package: ggplot2\n"
     ]
    },
    {
     "data": {
      "text/html": [
       "<dl class=dl-horizontal>\n",
       "\t<dt>(Intercept)</dt>\n",
       "\t\t<dd>11.3781179445926</dd>\n",
       "\t<dt>lland</dt>\n",
       "\t\t<dd>0.0818747008351832</dd>\n",
       "\t<dt>larea</dt>\n",
       "\t\t<dd>0.217512544545555</dd>\n",
       "\t<dt>linst</dt>\n",
       "\t\t<dd>-0.115457343402002</dd>\n",
       "\t<dt>age</dt>\n",
       "\t\t<dd>-0.281748338736765</dd>\n",
       "\t<dt>`\\`I((linst - log(mean(inst))) * (age - mean(age)))\\``</dt>\n",
       "\t\t<dd>0.0219130483507281</dd>\n",
       "\t<dt>`\\`I((linst - log(mean(inst)))^2)\\``</dt>\n",
       "\t\t<dd>-0.067574515383102</dd>\n",
       "\t<dt>`\\`I((age - mean(age))^2)\\``</dt>\n",
       "\t\t<dd>0.164273778546804</dd>\n",
       "</dl>\n"
      ],
      "text/latex": [
       "\\begin{description*}\n",
       "\\item[(Intercept)] 11.3781179445926\n",
       "\\item[lland] 0.0818747008351832\n",
       "\\item[larea] 0.217512544545555\n",
       "\\item[linst] -0.115457343402002\n",
       "\\item[age] -0.281748338736765\n",
       "\\item[`\\textbackslash{}textbackslash\\{\\}`I((linst - log(mean(inst))) * (age - mean(age)))\\textbackslash{}textbackslash\\{\\}``] 0.0219130483507281\n",
       "\\item[`\\textbackslash{}textbackslash\\{\\}`I((linst - log(mean(inst)))\\textbackslash{}textasciicircum\\{\\}2)\\textbackslash{}textbackslash\\{\\}``] -0.067574515383102\n",
       "\\item[`\\textbackslash{}textbackslash\\{\\}`I((age - mean(age))\\textbackslash{}textasciicircum\\{\\}2)\\textbackslash{}textbackslash\\{\\}``] 0.164273778546804\n",
       "\\end{description*}\n"
      ],
      "text/markdown": [
       "(Intercept)\n",
       ":   11.3781179445926lland\n",
       ":   0.0818747008351832larea\n",
       ":   0.217512544545555linst\n",
       ":   -0.115457343402002age\n",
       ":   -0.281748338736765`\\`I((linst - log(mean(inst))) * (age - mean(age)))\\``\n",
       ":   0.0219130483507281`\\`I((linst - log(mean(inst)))^2)\\``\n",
       ":   -0.067574515383102`\\`I((age - mean(age))^2)\\``\n",
       ":   0.164273778546804\n",
       "\n"
      ],
      "text/plain": [
       "                                             (Intercept) \n",
       "                                             11.37811794 \n",
       "                                                   lland \n",
       "                                              0.08187470 \n",
       "                                                   larea \n",
       "                                              0.21751254 \n",
       "                                                   linst \n",
       "                                             -0.11545734 \n",
       "                                                     age \n",
       "                                             -0.28174834 \n",
       "`\\\\`I((linst - log(mean(inst))) * (age - mean(age)))\\\\`` \n",
       "                                              0.02191305 \n",
       "                  `\\\\`I((linst - log(mean(inst)))^2)\\\\`` \n",
       "                                             -0.06757452 \n",
       "                          `\\\\`I((age - mean(age))^2)\\\\`` \n",
       "                                              0.16427378 "
      ]
     },
     "metadata": {},
     "output_type": "display_data"
    }
   ],
   "source": [
    "X1 <- model.matrix(ols.1)[,-1]\n",
    "datos <- cbind(data.frame(lprice=hprice3$lprice),as.data.frame(X1))\n",
    "\n",
    "## installing the 'caret' package if not previously installed\n",
    "if (!require(caret)) install.packages('caret')\n",
    "\n",
    "modelo <- train(lprice ~ .,\n",
    "               data = datos,\n",
    "               method = \"lm\",\n",
    "               preProcess = c('scale', 'center')\n",
    "               )\n",
    "\n",
    "coef(modelo$finalModel)"
   ]
  }
 ],
 "metadata": {
  "hide_input": false,
  "kernelspec": {
   "display_name": "R",
   "language": "R",
   "name": "ir"
  },
  "language_info": {
   "codemirror_mode": "r",
   "file_extension": ".r",
   "mimetype": "text/x-r-source",
   "name": "R",
   "pygments_lexer": "r",
   "version": "3.6.1"
  },
  "latex_envs": {
   "LaTeX_envs_menu_present": true,
   "autoclose": false,
   "autocomplete": true,
   "bibliofile": "biblio.bib",
   "cite_by": "apalike",
   "current_citInitial": 1,
   "eqLabelWithNumbers": true,
   "eqNumInitial": 1,
   "hotkeys": {
    "equation": "Ctrl-E",
    "itemize": "Ctrl-I"
   },
   "labels_anchors": false,
   "latex_user_defs": false,
   "report_style_numbering": false,
   "user_envs_cfg": false
  }
 },
 "nbformat": 4,
 "nbformat_minor": 2
}
